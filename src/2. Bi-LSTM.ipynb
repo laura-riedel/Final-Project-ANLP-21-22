{
 "cells": [
  {
   "cell_type": "code",
   "execution_count": 1,
   "metadata": {},
   "outputs": [],
   "source": [
    "import pickle\n",
    "import numpy as np\n",
    "import tensorflow as tf\n",
    "from tensorflow import keras\n",
    "# Load embedding helper functions\n",
    "import embedding_functions as ef"
   ]
  },
  {
   "cell_type": "markdown",
   "metadata": {},
   "source": [
    "# Hyperparameters"
   ]
  },
  {
   "cell_type": "markdown",
   "metadata": {},
   "source": [
    "First, we specify variables for our hyperparameters so that we are able to easily change them if need be."
   ]
  },
  {
   "cell_type": "code",
   "execution_count": 2,
   "metadata": {},
   "outputs": [],
   "source": [
    "from keras.callbacks import EarlyStopping"
   ]
  },
  {
   "cell_type": "code",
   "execution_count": 3,
   "metadata": {},
   "outputs": [],
   "source": [
    "dropout_rate = 0.0025\n",
    "num_units = 20 \n",
    "num_epoch = 300\n",
    "validation = 0.1\n",
    "max_len = 191\n",
    "batch_size = 32 \n",
    "patience = 10\n",
    "callback = EarlyStopping(monitor='loss', patience=patience)\n",
    "num_folds = 10"
   ]
  },
  {
   "cell_type": "markdown",
   "metadata": {},
   "source": [
    "# Load and Prepare Data"
   ]
  },
  {
   "cell_type": "markdown",
   "metadata": {},
   "source": [
    "We need to load our previously created word embedding matrix (see Data Preprocessing notebook), our cleaned training data and test data and prepare the data in such a way that we can use it as input/target for our model."
   ]
  },
  {
   "cell_type": "code",
   "execution_count": 4,
   "metadata": {},
   "outputs": [],
   "source": [
    "import pandas as pd\n",
    "from keras.preprocessing.sequence import pad_sequences\n",
    "import ast"
   ]
  },
  {
   "cell_type": "markdown",
   "metadata": {},
   "source": [
    "Embeddings:"
   ]
  },
  {
   "cell_type": "code",
   "execution_count": 5,
   "metadata": {},
   "outputs": [],
   "source": [
    "# Load embeddings\n",
    "emb_matrix = pickle.load(open('data/embeddings_matrix.obj', 'rb'))"
   ]
  },
  {
   "cell_type": "markdown",
   "metadata": {},
   "source": [
    "Training:"
   ]
  },
  {
   "cell_type": "code",
   "execution_count": 6,
   "metadata": {},
   "outputs": [],
   "source": [
    "# Load training paragraphs\n",
    "train_cleaned = pd.read_csv('data/dpm_train.csv')\n",
    "\n",
    "# Prepare input for embedding (tokenize and convert to embedding matrix indices)\n",
    "train_sequences = []\n",
    "for par in train_cleaned.text:\n",
    "    train_sequences.append(ef.inp2array(par))\n",
    "\n",
    "# Pad input sequences to maximum paragraph length\n",
    "x_train = pad_sequences(train_sequences, max_len)\n",
    "\n",
    "# Load train labels (lower level & higher level)\n",
    "# We need to turn the labels (currently list of strings) into a list of lists\n",
    "y_train_low = train_cleaned.loc[:, 'label'].to_numpy()\n",
    "y_train_low = np.array([np.array(ast.literal_eval(x)) for x in y_train_low])\n",
    "y_train_high = train_cleaned.loc[:, 'higher level label'].to_numpy()\n",
    "y_train_high = np.array([np.array(ast.literal_eval(x)) for x in y_train_high])\n"
   ]
  },
  {
   "cell_type": "markdown",
   "metadata": {},
   "source": [
    "Testing:"
   ]
  },
  {
   "cell_type": "code",
   "execution_count": 7,
   "metadata": {},
   "outputs": [],
   "source": [
    "# Load test paragraphs\n",
    "test = pd.read_csv('data/dpm_test.csv')\n",
    "\n",
    "# Prepare input for embedding (tokenize and convert to embedding matrix indices)\n",
    "test_sequences = []\n",
    "for par in test.text:\n",
    "    test_sequences.append(ef.inp2array(par))\n",
    "\n",
    "# Pad input sequences to maximum paragraph length\n",
    "x_test = pad_sequences(test_sequences, max_len, truncating='post') #truncating argument just for safety\n",
    "\n",
    "# Load test labels (lower level & higher level)\n",
    "# We need to turn the labels (currently list of strings) into a list of lists\n",
    "y_test_low = test.loc[:, 'label'].to_numpy()\n",
    "y_test_low = np.array([np.array(ast.literal_eval(x)) for x in y_test_low])\n",
    "y_test_high = test.loc[:, 'higher level label'].to_numpy()\n",
    "y_test_high = np.array([np.array(ast.literal_eval(x)) for x in y_test_high])\n"
   ]
  },
  {
   "cell_type": "markdown",
   "metadata": {},
   "source": [
    "We will now create bidirectional LSTM models using the open-source software library Keras. In a first step we will implement a simpler BiLSTM model with wich we will test performance differences depending on whether we train on lower or higher level labels. Afterwards we will investigate how that lower level performance compares to a model that trained on lower level labels with 10-fold cross validation."
   ]
  },
  {
   "cell_type": "markdown",
   "metadata": {},
   "source": [
    "# Simpler BiLSTM"
   ]
  },
  {
   "cell_type": "markdown",
   "metadata": {},
   "source": [
    "## Create Underlying Model"
   ]
  },
  {
   "cell_type": "markdown",
   "metadata": {},
   "source": [
    "First we will build the underlying model with all its encoding layers and settings before using this base model to train on the two different label options (higher VS. lower level labels)."
   ]
  },
  {
   "cell_type": "code",
   "execution_count": 8,
   "metadata": {},
   "outputs": [],
   "source": [
    "from tensorflow.keras.layers import Input, Embedding, LSTM, Bidirectional, Dense\n",
    "from tensorflow.keras.models import Model"
   ]
  },
  {
   "cell_type": "code",
   "execution_count": 9,
   "metadata": {},
   "outputs": [],
   "source": [
    "# Create input layer\n",
    "input = Input(shape=(max_len,), dtype='int64', name='Input') # none for unspecific input length (of sequences of integers)\n",
    "\n",
    "# Create embedding layer\n",
    "embedding_layer = Embedding(emb_matrix.size(dim=0), emb_matrix.size(dim=1), embeddings_initializer=keras.initializers.Constant(emb_matrix),trainable = False, name = 'Embeddings')(input) # trainable = False to keep the embeddings fixed\n",
    "\n",
    "# Create LSTM layers\n",
    "lstm_layer = Bidirectional(LSTM(num_units, dropout=dropout_rate, recurrent_dropout=dropout_rate, return_sequences=True), name='LSTM_1')(embedding_layer) \n",
    "\n",
    "lstm_layer2 = Bidirectional(LSTM(num_units, dropout=dropout_rate, recurrent_dropout=dropout_rate), name='LSTM_2')(lstm_layer)\n",
    "\n",
    "# Output/classification layer needs to be defined according to number of labels"
   ]
  },
  {
   "cell_type": "markdown",
   "metadata": {},
   "source": [
    "We will check that our model looks like we want it to using Keras' summary function:"
   ]
  },
  {
   "cell_type": "code",
   "execution_count": 10,
   "metadata": {},
   "outputs": [
    {
     "name": "stdout",
     "output_type": "stream",
     "text": [
      "Model: \"model\"\n",
      "_________________________________________________________________\n",
      " Layer (type)                Output Shape              Param #   \n",
      "=================================================================\n",
      " Input (InputLayer)          [(None, 191)]             0         \n",
      "                                                                 \n",
      " Embeddings (Embedding)      (None, 191, 300)          2471100   \n",
      "                                                                 \n",
      " LSTM_1 (Bidirectional)      (None, 191, 40)           51360     \n",
      "                                                                 \n",
      " LSTM_2 (Bidirectional)      (None, 40)                9760      \n",
      "                                                                 \n",
      " Output (Dense)              (None, 7)                 287       \n",
      "                                                                 \n",
      "=================================================================\n",
      "Total params: 2,532,507\n",
      "Trainable params: 61,407\n",
      "Non-trainable params: 2,471,100\n",
      "_________________________________________________________________\n",
      "None\n"
     ]
    }
   ],
   "source": [
    "# Output/classification layer\n",
    "output_size = 7\n",
    "output = Dense(output_size, activation='sigmoid', name='Output')(lstm_layer2)\n",
    "\n",
    "# Show a summary using a dummy model\n",
    "model = Model(inputs=input, outputs=output)\n",
    "model.compile(loss='binary_crossentropy', optimizer='adam', metrics=['accuracy'])\n",
    "print(model.summary())"
   ]
  },
  {
   "cell_type": "markdown",
   "metadata": {},
   "source": [
    "Let's represent our model more visually:"
   ]
  },
  {
   "cell_type": "code",
   "execution_count": 11,
   "metadata": {},
   "outputs": [
    {
     "data": {
      "image/png": "[encoded data removed]",
      "text/plain": [
       "<IPython.core.display.Image object>"
      ]
     },
     "execution_count": 11,
     "metadata": {},
     "output_type": "execute_result"
    }
   ],
   "source": [
    "from keras.utils.vis_utils import plot_model\n",
    "plot_model(model, show_shapes=True, show_layer_names=True)"
   ]
  },
  {
   "cell_type": "markdown",
   "metadata": {},
   "source": [
    "## Use Model on Data"
   ]
  },
  {
   "cell_type": "markdown",
   "metadata": {},
   "source": [
    "### With Lower Level Labels"
   ]
  },
  {
   "cell_type": "code",
   "execution_count": 32,
   "metadata": {},
   "outputs": [
    {
     "name": "stdout",
     "output_type": "stream",
     "text": [
      "26/26 [==============================] - 5s 130ms/step - loss: 0.0226 - accuracy: 0.6405\n"
     ]
    },
    {
     "data": {
      "text/plain": [
       "[0.022600101307034492, 0.6404907703399658]"
      ]
     },
     "execution_count": 32,
     "metadata": {},
     "output_type": "execute_result"
    }
   ],
   "source": [
    "# Output/classification layer\n",
    "output_size = 7 # because we have 7 lower level labels\n",
    "output = Dense(output_size, activation='sigmoid', name='Output')(lstm_layer2)\n",
    "\n",
    "# Initialise new model for training on lower level labels\n",
    "model_low = Model(inputs=input, outputs=output)\n",
    "model_low.compile(loss='binary_crossentropy', optimizer='adam', metrics=['accuracy']) \n",
    "\n",
    "# Fit model on train data\n",
    "hist_low = model_low.fit(x_train.tolist(), y_train_low.tolist(), epochs=num_epoch, batch_size = batch_size, callbacks=[callback], verbose=0)\n",
    "\n",
    "# Get performance score\n",
    "model_low.evaluate(x_train, y_train_low)"
   ]
  },
  {
   "cell_type": "markdown",
   "metadata": {},
   "source": [
    "Convert predictions for test data into a shape expected by our evaluation script and save for future use"
   ]
  },
  {
   "cell_type": "code",
   "execution_count": 33,
   "metadata": {},
   "outputs": [],
   "source": [
    "pred_low = model_low.predict(x_test)\n",
    "# Convert predicted continuous values between 0 and 1 to discrete values.\n",
    "pred_low_encoded = (pred_low > 0.5).astype(np.int32) "
   ]
  },
  {
   "cell_type": "code",
   "execution_count": 37,
   "metadata": {},
   "outputs": [],
   "source": [
    "# Save lower level predictions as pickle object for future use\n",
    "pklobj = open('data/pred_low.obj','wb')\n",
    "pickle.dump(pred_low_encoded,pklobj)\n",
    "pklobj.close()\n",
    "# Save history for future use\n",
    "pklobj = open('data/hist_low.obj','wb')\n",
    "pickle.dump(hist_low.history,pklobj)\n",
    "pklobj.close()"
   ]
  },
  {
   "cell_type": "markdown",
   "metadata": {},
   "source": [
    "### With Higher Level Labels"
   ]
  },
  {
   "cell_type": "code",
   "execution_count": 38,
   "metadata": {},
   "outputs": [
    {
     "name": "stdout",
     "output_type": "stream",
     "text": [
      "26/26 [==============================] - 3s 89ms/step - loss: 0.0017 - accuracy: 0.8638\n"
     ]
    },
    {
     "data": {
      "text/plain": [
       "[0.0017292824340984225, 0.8638036847114563]"
      ]
     },
     "execution_count": 38,
     "metadata": {},
     "output_type": "execute_result"
    }
   ],
   "source": [
    "# Output/classification layer\n",
    "output_size = 3 # because we have 3 higher level labels\n",
    "output = Dense(output_size, activation='sigmoid', name='Output')(lstm_layer2)\n",
    "\n",
    "# Initialise new model for training on higher level labels\n",
    "model_high = Model(inputs=input, outputs=output)\n",
    "model_high.compile(loss='binary_crossentropy', optimizer='adam', metrics=['accuracy'])\n",
    "\n",
    "# Fit model on train data\n",
    "hist_high = model_high.fit(x_train.tolist(), y_train_high.tolist(), epochs=num_epoch, batch_size = batch_size, callbacks=[callback], verbose=0) \n",
    "model_high.evaluate(x_train, y_train_high)\n"
   ]
  },
  {
   "cell_type": "markdown",
   "metadata": {},
   "source": [
    "Convert predictions for test data into a shape expected by our evaluation script and save for future use"
   ]
  },
  {
   "cell_type": "code",
   "execution_count": 39,
   "metadata": {},
   "outputs": [],
   "source": [
    "pred_high = model_high.predict(x_test)\n",
    "# Convert predicted continuous values between 0 and 1 to discrete values.\n",
    "pred_high_encoded = (pred_high > 0.5).astype(np.int32)"
   ]
  },
  {
   "cell_type": "code",
   "execution_count": 40,
   "metadata": {},
   "outputs": [],
   "source": [
    "# Save lower level predictions as pickle object for future use\n",
    "pklobj = open('data/pred_high.obj','wb')\n",
    "pickle.dump(pred_high_encoded,pklobj)\n",
    "pklobj.close()\n",
    "# Save history for future use\n",
    "pklobj = open('data/hist_high.obj','wb')\n",
    "pickle.dump(hist_high.history,pklobj)\n",
    "pklobj.close()"
   ]
  },
  {
   "cell_type": "markdown",
   "metadata": {},
   "source": [
    "## View losses and accuracy during training"
   ]
  },
  {
   "cell_type": "code",
   "execution_count": 42,
   "metadata": {},
   "outputs": [
    {
     "data": {
      "image/png": "[encoded data removed]",
      "text/plain": [
       "<Figure size 432x288 with 1 Axes>"
      ]
     },
     "metadata": {
      "needs_background": "light"
     },
     "output_type": "display_data"
    },
    {
     "data": {
      "image/png": "[encoded data removed]",
      "text/plain": [
       "<Figure size 432x288 with 1 Axes>"
      ]
     },
     "metadata": {
      "needs_background": "light"
     },
     "output_type": "display_data"
    }
   ],
   "source": [
    "import matplotlib.pyplot as plt\n",
    "\n",
    "# Load histories\n",
    "hist_low = pickle.load(open('data/hist_low.obj','rb'))\n",
    "hist_high = pickle.load(open('data/hist_high.obj','rb'))\n",
    "\n",
    "plt.figure(1)\n",
    "plt.plot(hist_low['loss'], label='Loss')\n",
    "plt.plot(hist_low['accuracy'], label='Accuracy')\n",
    "plt.ylim(0,1)\n",
    "plt.legend()\n",
    "plt.title('Metrics Development for Lower Level Labels')\n",
    "\n",
    "plt.figure(2)\n",
    "plt.plot(hist_high['loss'], label='Loss')\n",
    "plt.plot(hist_high['accuracy'], label='Accuracy')\n",
    "plt.ylim(0,1)\n",
    "plt.legend()\n",
    "plt.title('Metrics Development for Higher Level Labels')\n",
    "plt.show()"
   ]
  },
  {
   "cell_type": "markdown",
   "metadata": {},
   "source": [
    "Due to early stopping, both models trained for a different number of epochs."
   ]
  },
  {
   "cell_type": "markdown",
   "metadata": {},
   "source": [
    "## Evaluation\n",
    "\n",
    "In order to properly evaluate the multilabel classification results we will use our extended evaluation script that will show us accuracy, precision, recall and F1 measure for each PCL category separately."
   ]
  },
  {
   "cell_type": "code",
   "execution_count": 43,
   "metadata": {},
   "outputs": [],
   "source": [
    "# Load predictions\n",
    "pred_low = pickle.load(open('data/pred_low.obj', 'rb'))\n",
    "pred_high = pickle.load(open('data/pred_high.obj', 'rb'))"
   ]
  },
  {
   "cell_type": "code",
   "execution_count": 44,
   "metadata": {},
   "outputs": [
    {
     "name": "stdout",
     "output_type": "stream",
     "text": [
      "Sum lower level predictions:  [134  35  21  33  24  68   2]\n",
      "Sum higher level predictions:  [140  60  93]\n"
     ]
    }
   ],
   "source": [
    "import dontpatronizeme.ext_evaluation\n",
    "print('Sum lower level predictions: ',pred_low.sum(axis=0))\n",
    "print('Sum higher level predictions: ',pred_high.sum(axis=0))"
   ]
  },
  {
   "cell_type": "markdown",
   "metadata": {},
   "source": [
    "We can already see that, in contrast to our Logistic Regression approach, the simple BiLSTM predicts labels for all of the given lower level categories. Additionally, our BiLSTM model also predicts higher level labels more diversely than the logistic regression model."
   ]
  },
  {
   "cell_type": "code",
   "execution_count": 45,
   "metadata": {},
   "outputs": [
    {
     "name": "stdout",
     "output_type": "stream",
     "text": [
      "Unbalanced Power Relations\n",
      "Accuracy: 0.8022598870056498\n",
      "Precision: 0.9029850746268657\n",
      "Recall: 0.8461538461538461\n",
      "F1 Score: 0.8736462093862816\n",
      "Confusion Matrix: (tn, fp / fn, tp)\n",
      "[[ 21  13]\n",
      " [ 22 121]]\n",
      "--------------------------------------------------\n",
      "Shallow Solution\n",
      "Accuracy: 0.7627118644067796\n",
      "Precision: 0.45714285714285713\n",
      "Recall: 0.41025641025641024\n",
      "F1 Score: 0.4324324324324324\n",
      "Confusion Matrix: (tn, fp / fn, tp)\n",
      "[[119  19]\n",
      " [ 23  16]]\n",
      "--------------------------------------------------\n",
      "Presupposition\n",
      "Accuracy: 0.7627118644067796\n",
      "Precision: 0.5714285714285714\n",
      "Recall: 0.26666666666666666\n",
      "F1 Score: 0.36363636363636365\n",
      "Confusion Matrix: (tn, fp / fn, tp)\n",
      "[[123   9]\n",
      " [ 33  12]]\n",
      "--------------------------------------------------\n",
      "Authority Voice\n",
      "Accuracy: 0.7570621468926554\n",
      "Precision: 0.5454545454545454\n",
      "Recall: 0.391304347826087\n",
      "F1 Score: 0.4556962025316456\n",
      "Confusion Matrix: (tn, fp / fn, tp)\n",
      "[[116  15]\n",
      " [ 28  18]]\n",
      "--------------------------------------------------\n",
      "Metaphor\n",
      "Accuracy: 0.7570621468926554\n",
      "Precision: 0.4166666666666667\n",
      "Recall: 0.2564102564102564\n",
      "F1 Score: 0.31746031746031744\n",
      "Confusion Matrix: (tn, fp / fn, tp)\n",
      "[[124  14]\n",
      " [ 29  10]]\n",
      "--------------------------------------------------\n",
      "Compassion\n",
      "Accuracy: 0.6836158192090396\n",
      "Precision: 0.7794117647058824\n",
      "Recall: 0.5638297872340425\n",
      "F1 Score: 0.654320987654321\n",
      "Confusion Matrix: (tn, fp / fn, tp)\n",
      "[[68 15]\n",
      " [41 53]]\n",
      "--------------------------------------------------\n",
      "The poorer the merrier\n",
      "Accuracy: 0.9322033898305084\n",
      "Precision: 0.0\n",
      "Recall: 0.0\n",
      "F1 Score: 0.0\n",
      "Confusion Matrix: (tn, fp / fn, tp)\n",
      "[[165   2]\n",
      " [ 10   0]]\n",
      "--------------------------------------------------\n",
      "F1 Score Average: 0.4424560733001946\n"
     ]
    }
   ],
   "source": [
    "dontpatronizeme.ext_evaluation.evaluate(y_test_low, pred_low, 'll')"
   ]
  },
  {
   "cell_type": "markdown",
   "metadata": {},
   "source": [
    "The accuracies of the BiLSTM for lower level labels lie between 68% and 93%, which is a little bit higher than the logistic regression model but as we have noticed before, this is not very meaningful for our data. The F1 score gives a more accurate picture, in comparison to the logistic regression model, the average F1 score has pretty much doubled.\n",
    "\n",
    "Like the logistic regression model, the BiLSTM model has a F1-score of 0.0 for the category The poorer the merrier, but at least there are two false positives, which means that, although it mislabeled two paragraphs, the model generalised something about this category and tried to apply these generalisations. \n",
    "In contrast to the logistic regression model, this category is the only one with a F1 score of 0, in every other category it lies between 32% and 87%. In the catogory Unbalanced power relations the model has the highest F1 score, Compassion the second highest. \n",
    "\n",
    "Generally it looks like the number of samples per category correlates with the F1 score (Pearson's r of 0.937, which is not significant given the few datapoints but still is something to note)"
   ]
  },
  {
   "cell_type": "code",
   "execution_count": 44,
   "metadata": {},
   "outputs": [
    {
     "name": "stdout",
     "output_type": "stream",
     "text": [
      "The saviour\n",
      "Accuracy: 0.8361581920903954\n",
      "Precision: 0.8903225806451613\n",
      "Recall: 0.92\n",
      "F1 Score: 0.9049180327868852\n",
      "Confusion Matrix: (tn, fp / fn, tp)\n",
      "[[ 10  17]\n",
      " [ 12 138]]\n",
      "--------------------------------------------------\n",
      "The expert\n",
      "Accuracy: 0.6384180790960452\n",
      "Precision: 0.576271186440678\n",
      "Recall: 0.4657534246575342\n",
      "F1 Score: 0.5151515151515152\n",
      "Confusion Matrix: (tn, fp / fn, tp)\n",
      "[[79 25]\n",
      " [39 34]]\n",
      "--------------------------------------------------\n",
      "The poet\n",
      "Accuracy: 0.6666666666666666\n",
      "Precision: 0.7831325301204819\n",
      "Recall: 0.6132075471698113\n",
      "F1 Score: 0.6878306878306878\n",
      "Confusion Matrix: (tn, fp / fn, tp)\n",
      "[[53 18]\n",
      " [41 65]]\n",
      "--------------------------------------------------\n",
      "F1 Score Average: 0.7026334119230294\n"
     ]
    }
   ],
   "source": [
    "dontpatronizeme.ext_evaluation.evaluate(y_test_high, pred_high, 'hl')"
   ]
  },
  {
   "cell_type": "markdown",
   "metadata": {},
   "source": [
    "On average the model performs better on higher than lower level labels than on lower lever labels. \n",
    "\n",
    "The savior is the category with the highest F1 score which is somewhat unsurprising since ist contains the best performing lower level label Unbalanced power relations and the well performing category Shallow solutions.\n",
    "In all categories nearly all measures (except accuracy in the categories The expert and The poet) are higher than the mean of their respective lower level labels. The greatest difference can be observed for The poet, but this is due to the fact, that the zeros of The poorer the merrier skew the average to the lower end."
   ]
  },
  {
   "cell_type": "markdown",
   "metadata": {},
   "source": [
    "# k-Fold Cross Validation"
   ]
  },
  {
   "cell_type": "markdown",
   "metadata": {},
   "source": [
    "Now we will now compare our previous results to the performance of a k-fold BiLSTM with cross validation. For our k value we will comply with Pérez-Almendros et al. (2020) and choose to implement 10 folds. Furthermore, in our k-fold loop we will use the basic BiLSTM layer structure we created previously."
   ]
  },
  {
   "cell_type": "code",
   "execution_count": 19,
   "metadata": {},
   "outputs": [
    {
     "data": {
      "text/plain": [
       "<module 'dontpatronizeme.ext_evaluation' from '/Users/antonia/Documents/Unizeug/2021_WiSe_ANLP/final-project-anlp-21-22/src/dontpatronizeme/ext_evaluation.py'>"
      ]
     },
     "execution_count": 19,
     "metadata": {},
     "output_type": "execute_result"
    }
   ],
   "source": [
    "from sklearn.model_selection import KFold\n",
    "import dontpatronizeme.ext_evaluation"
   ]
  },
  {
   "cell_type": "code",
   "execution_count": 15,
   "metadata": {},
   "outputs": [],
   "source": [
    "# Following Code thanks to\n",
    "# [https://github.com/christianversloot/machine-learning-articles/blob/main/how-to-use-k-fold-cross-validation-with-keras.md]"
   ]
  },
  {
   "cell_type": "code",
   "execution_count": 25,
   "metadata": {},
   "outputs": [
    {
     "name": "stdout",
     "output_type": "stream",
     "text": [
      "Training for fold 1 ...\n",
      "WARNING:tensorflow:5 out of the last 13 calls to <function Model.make_test_function.<locals>.test_function at 0x7f8f4266f700> triggered tf.function retracing. Tracing is expensive and the excessive number of tracings could be due to (1) creating @tf.function repeatedly in a loop, (2) passing tensors with different shapes, (3) passing Python objects instead of tensors. For (1), please define your @tf.function outside of the loop. For (2), @tf.function has experimental_relax_shapes=True option that relaxes argument shapes that can avoid unnecessary retracing. For (3), please refer to https://www.tensorflow.org/guide/function#controlling_retracing and https://www.tensorflow.org/api_docs/python/tf/function for  more details.\n",
      "Training for fold 2 ...\n",
      "Training for fold 3 ...\n",
      "Training for fold 4 ...\n",
      "Training for fold 5 ...\n",
      "Training for fold 6 ...\n",
      "Training for fold 7 ...\n",
      "Training for fold 8 ...\n",
      "Training for fold 9 ...\n",
      "Training for fold 10 ...\n",
      "------------------------------------------------------------------------\n",
      "Score per fold\n",
      "------------------------------------------------------------------------\n",
      "> Fold 1 - Loss: 0.29470452666282654 - Accuracy: 63.41463327407837% - F1-measure: 75.18614871765098%\n",
      "------------------------------------------------------------------------\n",
      "> Fold 2 - Loss: 0.06387069821357727 - Accuracy: 60.975611209869385% - F1-measure: 92.57656278885824%\n",
      "------------------------------------------------------------------------\n",
      "> Fold 3 - Loss: 0.04323999583721161 - Accuracy: 62.19512224197388% - F1-measure: 97.64790764790764%\n",
      "------------------------------------------------------------------------\n",
      "> Fold 4 - Loss: 0.09908469021320343 - Accuracy: 64.63414430618286% - F1-measure: 94.26636787037754%\n",
      "------------------------------------------------------------------------\n",
      "> Fold 5 - Loss: 0.0920838788151741 - Accuracy: 64.63414430618286% - F1-measure: 95.57037354095786%\n",
      "------------------------------------------------------------------------\n",
      "> Fold 6 - Loss: 0.03523247689008713 - Accuracy: 67.90123581886292% - F1-measure: 83.3623188405797%\n",
      "------------------------------------------------------------------------\n",
      "> Fold 7 - Loss: 0.042916569858789444 - Accuracy: 65.4321014881134% - F1-measure: 90.00921419065911%\n",
      "------------------------------------------------------------------------\n",
      "> Fold 8 - Loss: 0.09866280108690262 - Accuracy: 76.54321193695068% - F1-measure: 89.42726820030967%\n",
      "------------------------------------------------------------------------\n",
      "> Fold 9 - Loss: 0.06982541084289551 - Accuracy: 71.60493731498718% - F1-measure: 90.13355607363003%\n",
      "------------------------------------------------------------------------\n",
      "> Fold 10 - Loss: 0.031539905816316605 - Accuracy: 61.72839403152466% - F1-measure: 97.3068002499391%\n",
      "------------------------------------------------------------------------\n",
      "Average scores for all folds:\n",
      "> Accuracy: 65.90635359287262 (+- 4.6347339707197985)\n",
      "> Loss: 0.08711609542369843 (+- 4.6347339707197985)\n",
      "> F1: 90.54865181208697% (+- 4.6347339707197985)\n",
      "------------------------------------------------------------------------\n"
     ]
    }
   ],
   "source": [
    "output_size = 7\n",
    "\n",
    "# Define per-fold score containers\n",
    "# For metrics\n",
    "acc_per_fold = []\n",
    "loss_per_fold = []\n",
    "f1_per_fold = []\n",
    "# For predictions\n",
    "pred_low_cv = dict()\n",
    "\n",
    "# Define the K-fold Cross Validator\n",
    "kfold = KFold(n_splits=num_folds, shuffle=True, random_state=11)\n",
    "\n",
    "# K-fold Cross Validation model evaluation\n",
    "fold_no = 1\n",
    "\n",
    "for train, test in kfold.split(x_train, y_train_low):\n",
    "    # Define the model architecture\n",
    "    # Use input from simpler BiLSTM created previously\n",
    "\n",
    "    # Output/classification layer\n",
    "    output = Dense(output_size, activation='sigmoid', name='Output')(lstm_layer2)\n",
    "\n",
    "    # Instantiate model\n",
    "    model_cv = Model(inputs=input, outputs=output)\n",
    "\n",
    "    # Compile the model\n",
    "    model_cv.compile(loss='binary_crossentropy', optimizer='adam', metrics=['accuracy']) \n",
    "\n",
    "    # Generate a print\n",
    "    print(f'Training for fold {fold_no} ...')\n",
    "\n",
    "    history = model_cv.fit(x_train[train], y_train_low[train], epochs=num_epoch, batch_size = batch_size, callbacks=[callback], verbose=0)\n",
    "    # Generate generalization metrics\n",
    "    scores = model_cv.evaluate(x_train[test], y_train_low[test], verbose=0)\n",
    "    \n",
    "    # Save predictions in dictionary\n",
    "    pred = model_cv.predict(x_test)\n",
    "    pred_low_cv[fold_no] = (pred > 0.5).astype(np.int32)\n",
    "\n",
    "    validation_prediction = model_cv.predict(x_train[test])\n",
    "    validation_prediction = (validation_prediction > 0.5).astype(np.int32)\n",
    "\n",
    "    acc_per_fold.append(scores[1] * 100)\n",
    "    loss_per_fold.append(scores[0])\n",
    "    f1_per_fold.append(dontpatronizeme.ext_evaluation.evaluate(y_train_low[test], validation_prediction,'ll', verbose = False))\n",
    "\n",
    "\n",
    "    # Increase fold number\n",
    "    fold_no = fold_no + 1\n",
    "\n",
    "\n",
    "# == Provide average scores ==\n",
    "print('------------------------------------------------------------------------')\n",
    "print('Score per fold')\n",
    "for i in range(0, len(acc_per_fold)):\n",
    "  print('------------------------------------------------------------------------')\n",
    "  print(f'> Fold {i+1} - Loss: {loss_per_fold[i]} - Accuracy: {acc_per_fold[i]}% - F1-measure: {f1_per_fold[i]*100}%')\n",
    "print('------------------------------------------------------------------------')\n",
    "print('Average scores for all folds:')\n",
    "print(f'> Accuracy: {np.mean(acc_per_fold)} (+- {np.std(acc_per_fold)})')\n",
    "print(f'> Loss: {np.mean(loss_per_fold)} (+- {np.std(acc_per_fold)})')\n",
    "print(f'> F1: {np.mean(f1_per_fold)*100}% (+- {np.std(acc_per_fold)})')\n",
    "print('------------------------------------------------------------------------')"
   ]
  },
  {
   "cell_type": "markdown",
   "metadata": {},
   "source": [
    "Save predictions as pickle object for future use:"
   ]
  },
  {
   "cell_type": "code",
   "execution_count": 26,
   "metadata": {},
   "outputs": [],
   "source": [
    "pklobj = open('data/pred_low_cv.obj','wb')\n",
    "pickle.dump(pred_low_cv,pklobj)\n",
    "pklobj.close()"
   ]
  },
  {
   "cell_type": "markdown",
   "metadata": {},
   "source": [
    "## View loss and accuracy during training"
   ]
  },
  {
   "cell_type": "code",
   "execution_count": 29,
   "metadata": {},
   "outputs": [
    {
     "data": {
      "image/png": "[encoded data removed]",
      "text/plain": [
       "<Figure size 432x288 with 1 Axes>"
      ]
     },
     "metadata": {
      "needs_background": "light"
     },
     "output_type": "display_data"
    }
   ],
   "source": [
    "plt.title('Metrics development for higher level labels')\n",
    "plt.plot(history.history['loss'], label='Loss')\n",
    "plt.plot(history.history['accuracy'], label='Accuracy')\n",
    "plt.legend()\n",
    "plt.show()"
   ]
  },
  {
   "cell_type": "markdown",
   "metadata": {},
   "source": [
    "## Evaluation"
   ]
  },
  {
   "cell_type": "markdown",
   "metadata": {},
   "source": [
    "Since the third fold showed the best results on the validation set, we will conduct the further evaluation with the test set on this model."
   ]
  },
  {
   "cell_type": "code",
   "execution_count": 53,
   "metadata": {},
   "outputs": [
    {
     "name": "stdout",
     "output_type": "stream",
     "text": [
      "Sum lower level predictions:  [130  31  24  45  25  82   2]\n"
     ]
    }
   ],
   "source": [
    "# Load predictions\n",
    "pred_low_cv = pickle.load(open('data/pred_low_cv.obj','rb'))\n",
    "\n",
    "import dontpatronizeme.ext_evaluation\n",
    "\n",
    "print('Sum lower level predictions: ',pred_low_cv[3].sum(axis=0))"
   ]
  },
  {
   "cell_type": "code",
   "execution_count": 52,
   "metadata": {},
   "outputs": [
    {
     "name": "stdout",
     "output_type": "stream",
     "text": [
      "Unbalanced Power Relations\n",
      "Accuracy: 0.7796610169491526\n",
      "Precision: 0.9\n",
      "Recall: 0.8181818181818182\n",
      "F1 Score: 0.8571428571428572\n",
      "Confusion Matrix: (tn, fp / fn, tp)\n",
      "[[ 21  13]\n",
      " [ 26 117]]\n",
      "--------------------------------------------------\n",
      "Shallow Solution\n",
      "Accuracy: 0.7740112994350282\n",
      "Precision: 0.4838709677419355\n",
      "Recall: 0.38461538461538464\n",
      "F1 Score: 0.4285714285714286\n",
      "Confusion Matrix: (tn, fp / fn, tp)\n",
      "[[122  16]\n",
      " [ 24  15]]\n",
      "--------------------------------------------------\n",
      "Presupposition\n",
      "Accuracy: 0.7231638418079096\n",
      "Precision: 0.4166666666666667\n",
      "Recall: 0.2222222222222222\n",
      "F1 Score: 0.2898550724637681\n",
      "Confusion Matrix: (tn, fp / fn, tp)\n",
      "[[118  14]\n",
      " [ 35  10]]\n",
      "--------------------------------------------------\n",
      "Authority Voice\n",
      "Accuracy: 0.7231638418079096\n",
      "Precision: 0.4666666666666667\n",
      "Recall: 0.45652173913043476\n",
      "F1 Score: 0.46153846153846156\n",
      "Confusion Matrix: (tn, fp / fn, tp)\n",
      "[[107  24]\n",
      " [ 25  21]]\n",
      "--------------------------------------------------\n",
      "Metaphor\n",
      "Accuracy: 0.751412429378531\n",
      "Precision: 0.4\n",
      "Recall: 0.2564102564102564\n",
      "F1 Score: 0.3125\n",
      "Confusion Matrix: (tn, fp / fn, tp)\n",
      "[[123  15]\n",
      " [ 29  10]]\n",
      "--------------------------------------------------\n",
      "Compassion\n",
      "Accuracy: 0.5932203389830508\n",
      "Precision: 0.6341463414634146\n",
      "Recall: 0.5531914893617021\n",
      "F1 Score: 0.5909090909090909\n",
      "Confusion Matrix: (tn, fp / fn, tp)\n",
      "[[53 30]\n",
      " [42 52]]\n",
      "--------------------------------------------------\n",
      "The poorer the merrier\n",
      "Accuracy: 0.9322033898305084\n",
      "Precision: 0.0\n",
      "Recall: 0.0\n",
      "F1 Score: 0.0\n",
      "Confusion Matrix: (tn, fp / fn, tp)\n",
      "[[165   2]\n",
      " [ 10   0]]\n",
      "--------------------------------------------------\n",
      "F1 Score Average: 0.4200738443750866\n"
     ]
    }
   ],
   "source": [
    "dontpatronizeme.ext_evaluation.evaluate(y_test_low, pred_low_cv[3], 'll')"
   ]
  },
  {
   "cell_type": "markdown",
   "metadata": {},
   "source": [
    "More training effort did not yield better results compared to the simple BiLSTM. The F1-score on the test data improved in only one category, namely Authority voice, the average of the F1-score became worse (slightly). Like any other model in our experiment so far, this model also completely failed to correctly identify the category The poorer the merrier. As we have seen for the simple BiLSTM, a correlation between the number of instances of each category with the F1-score can be found (Pearson's r of 0.923)."
   ]
  },
  {
   "cell_type": "markdown",
   "metadata": {},
   "source": [
    "# Summary"
   ]
  },
  {
   "cell_type": "markdown",
   "metadata": {},
   "source": [
    "- Every iteration of BiLSTM model that we trained on average performed better than the logistic regression model.\n",
    "- The scores of the models trained on lower level labels seem to correlate with the frequency of the respective label in the training data.\n",
    "- The distinction between higher level labels works more reliably than between lower level labels.\n",
    "- Training with 10-fold cross validation over all did not improve the scores of the model, the larger training effort does not pay off."
   ]
  }
 ],
 "metadata": {
  "interpreter": {
   "hash": "f8f15eca31ea804bb0f6d33316ffa140c5a8921f35704d486c94dba9d6df5ff3"
  },
  "kernelspec": {
   "display_name": "Python 3.8.3 ('base')",
   "language": "python",
   "name": "python3"
  },
  "language_info": {
   "codemirror_mode": {
    "name": "ipython",
    "version": 3
   },
   "file_extension": ".py",
   "mimetype": "text/x-python",
   "name": "python",
   "nbconvert_exporter": "python",
   "pygments_lexer": "ipython3",
   "version": "3.8.2"
  },
  "orig_nbformat": 4
 },
 "nbformat": 4,
 "nbformat_minor": 2
}

{
 "cells": [
  {
   "cell_type": "markdown",
   "id": "39012462",
   "metadata": {},
   "source": [
    "# Data Exploration\n",
    "First we will load the original data from Perez-Almendros et al. (2020) by using their provided DontPatronizeMe-object from their [github-repository](https://github.com/Perez-AlmendrosC/dontpatronizeme)."
   ]
  },
  {
   "cell_type": "code",
   "execution_count": 6,
   "id": "b3d63156",
   "metadata": {},
   "outputs": [
    {
     "name": "stdout",
     "output_type": "stream",
     "text": [
      "Map of label to numerical label:\n",
      "{'Unbalanced_power_relations': 0, 'Shallow_solution': 1, 'Presupposition': 2, 'Authority_voice': 3, 'Metaphors': 4, 'Compassion': 5, 'The_poorer_the_merrier': 6}\n"
     ]
    },
    {
     "data": {
      "text/html": [
       "<div>\n",
       "<style scoped>\n",
       "    .dataframe tbody tr th:only-of-type {\n",
       "        vertical-align: middle;\n",
       "    }\n",
       "\n",
       "    .dataframe tbody tr th {\n",
       "        vertical-align: top;\n",
       "    }\n",
       "\n",
       "    .dataframe thead th {\n",
       "        text-align: right;\n",
       "    }\n",
       "</style>\n",
       "<table border=\"1\" class=\"dataframe\">\n",
       "  <thead>\n",
       "    <tr style=\"text-align: right;\">\n",
       "      <th></th>\n",
       "      <th>par_id</th>\n",
       "      <th>art_id</th>\n",
       "      <th>text</th>\n",
       "      <th>keyword</th>\n",
       "      <th>country</th>\n",
       "      <th>label</th>\n",
       "    </tr>\n",
       "  </thead>\n",
       "  <tbody>\n",
       "    <tr>\n",
       "      <th>0</th>\n",
       "      <td>4046</td>\n",
       "      <td>@@14767805</td>\n",
       "      <td>We also know that they can benefit by receivin...</td>\n",
       "      <td>hopeless</td>\n",
       "      <td>us</td>\n",
       "      <td>[1, 0, 0, 1, 0, 0, 0]</td>\n",
       "    </tr>\n",
       "    <tr>\n",
       "      <th>1</th>\n",
       "      <td>1279</td>\n",
       "      <td>@@7896098</td>\n",
       "      <td>Pope Francis washed and kissed the feet of Mus...</td>\n",
       "      <td>refugee</td>\n",
       "      <td>ng</td>\n",
       "      <td>[0, 1, 0, 0, 0, 0, 0]</td>\n",
       "    </tr>\n",
       "    <tr>\n",
       "      <th>2</th>\n",
       "      <td>8330</td>\n",
       "      <td>@@17252299</td>\n",
       "      <td>Many refugees do n't want to be resettled anyw...</td>\n",
       "      <td>refugee</td>\n",
       "      <td>ng</td>\n",
       "      <td>[0, 0, 1, 0, 0, 0, 0]</td>\n",
       "    </tr>\n",
       "    <tr>\n",
       "      <th>3</th>\n",
       "      <td>4063</td>\n",
       "      <td>@@3002894</td>\n",
       "      <td>\"Budding chefs , like \"\" Fred \"\" , \"\" Winston ...</td>\n",
       "      <td>in-need</td>\n",
       "      <td>ie</td>\n",
       "      <td>[1, 0, 0, 1, 1, 1, 0]</td>\n",
       "    </tr>\n",
       "    <tr>\n",
       "      <th>4</th>\n",
       "      <td>4089</td>\n",
       "      <td>@@25597822</td>\n",
       "      <td>\"In a 90-degree view of his constituency , one...</td>\n",
       "      <td>homeless</td>\n",
       "      <td>pk</td>\n",
       "      <td>[1, 0, 0, 0, 0, 0, 0]</td>\n",
       "    </tr>\n",
       "    <tr>\n",
       "      <th>...</th>\n",
       "      <td>...</td>\n",
       "      <td>...</td>\n",
       "      <td>...</td>\n",
       "      <td>...</td>\n",
       "      <td>...</td>\n",
       "      <td>...</td>\n",
       "    </tr>\n",
       "    <tr>\n",
       "      <th>988</th>\n",
       "      <td>873</td>\n",
       "      <td>@@20374243</td>\n",
       "      <td>Citing the fact that these kids who died at Go...</td>\n",
       "      <td>poor-families</td>\n",
       "      <td>sg</td>\n",
       "      <td>[1, 0, 0, 0, 1, 0, 0]</td>\n",
       "    </tr>\n",
       "    <tr>\n",
       "      <th>989</th>\n",
       "      <td>10070</td>\n",
       "      <td>@@15573661</td>\n",
       "      <td>Fern ? ndez was a well-known philanthropist wh...</td>\n",
       "      <td>disabled</td>\n",
       "      <td>ng</td>\n",
       "      <td>[1, 0, 0, 0, 0, 0, 0]</td>\n",
       "    </tr>\n",
       "    <tr>\n",
       "      <th>990</th>\n",
       "      <td>6484</td>\n",
       "      <td>@@2559173</td>\n",
       "      <td>Touched much by their plight , Commanding Offi...</td>\n",
       "      <td>homeless</td>\n",
       "      <td>lk</td>\n",
       "      <td>[1, 0, 0, 0, 0, 1, 0]</td>\n",
       "    </tr>\n",
       "    <tr>\n",
       "      <th>991</th>\n",
       "      <td>6249</td>\n",
       "      <td>@@1947926</td>\n",
       "      <td>She reiterated her ministry 's commitment to p...</td>\n",
       "      <td>women</td>\n",
       "      <td>gh</td>\n",
       "      <td>[1, 0, 0, 0, 0, 0, 0]</td>\n",
       "    </tr>\n",
       "    <tr>\n",
       "      <th>992</th>\n",
       "      <td>5149</td>\n",
       "      <td>@@1789214</td>\n",
       "      <td>Preaching the sermon , the Dean of the St. Pet...</td>\n",
       "      <td>vulnerable</td>\n",
       "      <td>gh</td>\n",
       "      <td>[0, 0, 0, 1, 0, 0, 0]</td>\n",
       "    </tr>\n",
       "  </tbody>\n",
       "</table>\n",
       "<p>993 rows × 6 columns</p>\n",
       "</div>"
      ],
      "text/plain": [
       "    par_id      art_id                                               text  \\\n",
       "0     4046  @@14767805  We also know that they can benefit by receivin...   \n",
       "1     1279   @@7896098  Pope Francis washed and kissed the feet of Mus...   \n",
       "2     8330  @@17252299  Many refugees do n't want to be resettled anyw...   \n",
       "3     4063   @@3002894  \"Budding chefs , like \"\" Fred \"\" , \"\" Winston ...   \n",
       "4     4089  @@25597822  \"In a 90-degree view of his constituency , one...   \n",
       "..     ...         ...                                                ...   \n",
       "988    873  @@20374243  Citing the fact that these kids who died at Go...   \n",
       "989  10070  @@15573661  Fern ? ndez was a well-known philanthropist wh...   \n",
       "990   6484   @@2559173  Touched much by their plight , Commanding Offi...   \n",
       "991   6249   @@1947926  She reiterated her ministry 's commitment to p...   \n",
       "992   5149   @@1789214  Preaching the sermon , the Dean of the St. Pet...   \n",
       "\n",
       "           keyword country                  label  \n",
       "0         hopeless      us  [1, 0, 0, 1, 0, 0, 0]  \n",
       "1          refugee      ng  [0, 1, 0, 0, 0, 0, 0]  \n",
       "2          refugee      ng  [0, 0, 1, 0, 0, 0, 0]  \n",
       "3          in-need      ie  [1, 0, 0, 1, 1, 1, 0]  \n",
       "4         homeless      pk  [1, 0, 0, 0, 0, 0, 0]  \n",
       "..             ...     ...                    ...  \n",
       "988  poor-families      sg  [1, 0, 0, 0, 1, 0, 0]  \n",
       "989       disabled      ng  [1, 0, 0, 0, 0, 0, 0]  \n",
       "990       homeless      lk  [1, 0, 0, 0, 0, 1, 0]  \n",
       "991          women      gh  [1, 0, 0, 0, 0, 0, 0]  \n",
       "992     vulnerable      gh  [0, 0, 0, 1, 0, 0, 0]  \n",
       "\n",
       "[993 rows x 6 columns]"
      ]
     },
     "execution_count": 6,
     "metadata": {},
     "output_type": "execute_result"
    }
   ],
   "source": [
    "from dontpatronizeme.ext_dont_patronize_me import DontPatronizeMe\n",
    "\n",
    "dpm = DontPatronizeMe('data/dontpatronizeme_v1.4/dontpatronizeme_categories.tsv', '')\n",
    "dpm.load_task2()\n",
    "dpm.train_task2_df"
   ]
  },
  {
   "cell_type": "markdown",
   "id": "86832748",
   "metadata": {},
   "source": [
    "### Explorations + Preparations for the BiLSTM"
   ]
  },
  {
   "cell_type": "markdown",
   "id": "f9f55bc2",
   "metadata": {},
   "source": [
    "Because Perez-Almendros et al. (2020) use the GoogleNews word vector embeddings for their BiLSTM model, we will do the same for our BiLSTM in order to increase meaningful comparability across this model type."
   ]
  },
  {
   "cell_type": "code",
   "execution_count": 1,
   "id": "01cb7616",
   "metadata": {},
   "outputs": [],
   "source": [
    "from nltk.tokenize import word_tokenize\n",
    "import pickle\n",
    "import torch\n",
    "import numpy as np\n",
    "import pandas as pd"
   ]
  },
  {
   "cell_type": "markdown",
   "id": "253e8872",
   "metadata": {},
   "source": [
    "Please note: the following code will only work, when providing the 'GoogleNews-vectors-negative300.bin' in the data folder (src/data). We have not submitted this file in the repository for memory reasons. You can download the file from this page <https://code.google.com/archive/p/word2vec/> by following this link: <https://drive.google.com/file/d/0B7XkCwpI5KDYNlNUTTlSS21pQmM/edit?usp=sharing>"
   ]
  },
  {
   "cell_type": "code",
   "execution_count": 2,
   "id": "89dcaa49",
   "metadata": {},
   "outputs": [],
   "source": [
    "from os.path import exists\n",
    "\n",
    "if not exists(\"data/GoogleNews-vectors-negative300.bin\"):\n",
    "    raise FileNotFoundError('The following three cells will not work,' + \n",
    "                            'please download the GoogleNews-vectors-negative300.bin file ' +\n",
    "                            '(please read the paragraph above for instructions.)' + \n",
    "                            'or skip the next three cells and continue running from there.')"
   ]
  },
  {
   "cell_type": "code",
   "execution_count": 3,
   "id": "aa099821",
   "metadata": {},
   "outputs": [],
   "source": [
    "# get word vectors from GoogleNews vectors\n",
    "from gensim.models import KeyedVectors\n",
    "wv_from_bin = KeyedVectors.load_word2vec_format(\"data/GoogleNews-vectors-negative300.bin\", binary=True)  "
   ]
  },
  {
   "cell_type": "markdown",
   "id": "d0864be4",
   "metadata": {},
   "source": [
    "First, we'll check how well the given GoogleNews embeddings mirror the tokens we have in our dataset:"
   ]
  },
  {
   "cell_type": "code",
   "execution_count": 12,
   "id": "0979ca82",
   "metadata": {
    "scrolled": true
   },
   "outputs": [
    {
     "name": "stdout",
     "output_type": "stream",
     "text": [
      "['Mwadena', 'publicly-funded', '1920', '276', '1,488', 'story-sharing', 'inner-city', 'man-made', '1973', 'Ecclessiastes', 'Iran-aligned', 'vulnerables', 'behaviour', 'armoured', ';', 'Food-Co', 'muscle-bound', 'Gongera', 'Kanakapuram', 'sub-humans', 'Poranu', 'organising', 'organisation', 'eco-friendly', 'xBD', '2010', '280,000', 'custom-made', 'UCRT', '16xOSU', 'Bhikkhuni', '2,500', 'Abayage', '1,200', 'high-profile', 'Utkaliya', 'information-based', 'Secretary-General', '-wage', 'start-up', '1922', '1,500', 'well-being', '10', 'gun-toting', 'brutalising', '5,000', '1,00,000', 'honourable', '204,000', 'Kotleba-People', 'Tablet-based', 'far-fetched', 'barrier-free', 'Samhua', '25', 'Getty/Instagram', 'marginalisation', 'Nwaochi', 'Keshap', 'U.K', 'brutalised', 'instability/shifting', 'MOTHs', '19th', 'Dharga', 'jewellery', 'specialised', '450', '14', '1/4', '386', 'accessiblility', '400', 'mothers-', 'mater-', '1993', 'Kaveke', 'Elfreeda', 'Non-action', 'of', '5000', '29', 'Upworthy', 'Mollekleiv', 'change-makers', '19', 'utilised', 'marginalise', '23rd', 'Ahoto', 'Somtaki', 'sub-Saharan', 'Binase', 'Shumugum', 'high-flying', 'defenceless', 'FACSI', 'and/or', 'right-thinking', 'real-life', 'Otoyo', '19-year', 'heal.She', 'Prize-winning', 'licence', '97', '21st', 'year-old', 'ill-educated', 'Gurdwar', 'meagre', 'Kandaro', '--', '790,000', 'ill-equipped', 'Kporibayiri', 'HKFP', 'internally-displaced', '21', 'check-ups', 'Shebesh', 'poverty-stricken', 'war-torn', 'Tellipalai', 'honoured', 'Addo/Bawumia', '15,000', 'outpours', '800,000', '17-year-old', 'cheques', 'High-achieving', '13', '346', 'Lagono', '100,000', \"''\", 'Run/Walk', '31', 'recognised', 'labourers', 'privatised', '1845-1852', 'rubbish-strewn', 'UMEED', 'swayamwaras', '110th', 'disabily', 'organised', '293', 'Asmani', 'Thiruvmavalavan', 'scam-artist', 'Sulangan', 'corrupt/', 'Epuni', 'non-Muslim', 'neighbourhood', 'scot-free', 'semi-literate', 'hard-working', 'Retweet4Support', 'self-sufficiency', 'Raijene', '73', '1,000', '34,052', 'LSNS', 'Nneoma', 'three-day', '12', 'socio-cultural', 'bare-foot', '12th', '8:9', 'MediCards', 'Notkers', 'Gilgit-Baltistan', 'Rafizi', '750,000', '?', 'Xoyo', '16-year-old', 're-usable', '48,000', 'marifat', 'life-saving', '1990s', '2030', 'Insolar', '59', 'Amoako-Adu', '85,000', '1997', 'home-cooked', '16.5', 'PathFinders', '//bit.ly/2qL25mv', 'resignation/removal', 'Forty-seven', 'decision-maker', 'all-out', '392', 'Pop-up', 'recognises', 'faith-based', 'criticised', 'Muizzuddin', 'self-esteem', 'cannotearn', 'billion-pound', '2018', 'five-day', 'Duddley', 'realise', 'fanfare.The', '2004', 'H.E.R.O', '14th', 'smart-phone', 'Asiaray', 'eight-week', 'HIPKINS', 'Gipey', 'U.N', '1974', 'Zingiswa', 'face-down', '11am', '7,464', '4:2', 'mind-set', '17.6', 'Caberio', '470', 'nine-member', '117,000', 'Betty-Ann', 'mollification', '100', 'Mseffer', 'capacity-building', '58,000', 're-housed', 'KWIECO', 'modernise', 'characterised', 'humour', 'one-sided', '25.6', 'assy-versy', 'Dole-Philippines', 'Tishbite', 'in-charge', 'free-market', 'fulfil', '36.5', '6-metre', 'conservative-majority', 'can-do', 'democratise', 'NAIJ.com', 'Tk10', 'Kingsley-Nyinah', '5:00', '20,000', '11', 'Kapira', 'Ransilu', 'Klosen', 'life-changing', '1000', 'middle-', 'crippled/', 'Fambul', '1,733', 'kilometres', 'Meitaya', 'ICHH', '11th', '2010-2011', 'stand-out', '9.25', '30kg', 'us.', 'Undateables', 'child-sensitive', 'Mumassaba', 'Atinka', 'non-PC', 'modernisation', 'all-inclusive', 'HAGAN/WINNIPEG', 'War-like', 'RoL', 'Derewianchuk', 'Sub-district', 'much-needed', 'community-minded', 'bhikkhunis', 'Gairo', 'Elwany', '10,000', '1.2', 'cash-rich', 'programme', 'second-hand', 'health-care', '12,000', 'twenty-year-old', 'a', '80s', '<', 'hoi-polloi', 'third-world', 'YCK', 'Karwan-e-Benazir', 'realised', 'HIV-positive', 'Daraz.pk', 'e.g', 'after-inflation', '...', 'BCYA', '11:25', '(', 'ASWS', 'Odebala', 'organisations', '17', 'twentyfifth', '/', 'able-bodied', 'Coca-Cola', '1,225people', 'GravityLight', 'TheDignityProject', 'and', 'INNERSOLE', '92,000', '1970s', 'Her.ie', 'KwaZulu-Natal', '15', 'ever-escalating', 'war-stricken', 'relise', '540lbs', 'Pestonjee', 'Kong-born', 'injured/disabled', 'full-blown', '4,000', 'Partalala', 'time-poor', 'Mtabila', 'self-denial', 'Francescana', 'GramaNiladharis', '2019', '94.2', '1909', 'Ustav', 'broken-hearted', 'TurkIt', \"'\", '200', 'large-scale', 'self-publish', '..', 'labourer', '8.45pm', 'IdeaRaya', '.', '23', '22', 'dis-abled', '24-hour', 'job/salary', 'Chuan-Jin', 'Ikonomwan', 'whole-house', 'hand-over', 'death-fields', 'tear-filled', 'blithesome', '20th', 'Six-year-old', '144', 'Manyemi', '1980s', 'Igbira', 'committees/boards', '24', 're-build', 'Ringgren', '400,000', '11-year-old', 'vice-chancellor', 'President-General', '16.7', 'differently-abled', 'self-indulgence', '1994', '60', 'self-deprecation', '9,600', 'self-worth', 'purpose-built', 'me.', 'passers-by', '90-degree', 'Shellhole', 'life-or-death', 'Leoneans', 'to', 'marginalised', 'shell-shocked', '2016', 'VIP-style', '27', 'upper-middle-class', '816', 'defence', 'society-', 'low-income', 'non-violent', 'self-respect', 'co-founded', 'honour', 'Ayemidejor', '150,000', 'counsellor', 'flood-affected', 'Duddleys', 'women-', 'Mashkai', '63', 'gift-giving', 'Edmonds-Waters', ',', 'honours', 'Idearaya', 'globalisation', 'women.Greg', 'pro-immigrant', 'Read-Along', 'manoeuvre', 'refugee-producing', 'late-night', 'neighbour', 'Muniba', '51', 'non-governmental', 'so-called', 'candy-coloured', 'Agenkwa', 'fast-tracks', 'Seifeddine', '2009', 'three-Michelin-starred', 'neighbouring', 'bombed-out', 'B.C', '14,000', 'Tyongwana', 'endeavour', 'bite-and', 'hard-hitting', 'infirms', '1798', 'Akuse-based', 'inne', 'Ejaife', 'Palauig', '7-layer', 'Isulo', 'SYCC', 'long-running', 'dehumization', 'Wakkala', 'hopelessnes', '85', '28-year-old', 're-united', 'well-off', 'i.e', 'actualise', 'centre', '18th', '25,000', 'geo-political', 'Minmin', 'DUSIB', 'Shiyani', '40', '18', 'self-obsession', 'Korane', 'seven-figure', 'traumatised', 'spokesperson/DG', '345', 'Babachir', 'over-adrenalised', 'clamour', 'Lougene', 'Sulaymaniah', 'Igbuya', 'wise-cracking', 'Akufo-Addo', 'well-known', 'day-to-day', 'second-class', 'refugee/migrant', '500', 'poor/low', 'Groceryships', 'low-quality', 'Lekshe', 'Archambault/AFP', 'sharp-elbowed', '26', '15-part', 'Denagan', '1/8', 'long-time', 'Afghanistan/AFP', '2,800', 'Sheepherding', 'favour', 'kind-hearted', 'socio-economic', '1999', '129', ':', 'un-safer', '10:41am', 'Qasr-e', 'RM100,000', '58th', 'gier', 'double-digit', '2014', 'working-class', '130', '3.500', 'KIOKO', 'underutilised', 'domestic/national', '4:12', '2015', 'Honfovu', '16', 'colour', 'Thirty-eight', 'cold-bloodedly', 'Kotuwa', 'co-operatives', '80', 'Huthiwa', 'recognise', '143', '1951', 'power-lifting', '300', '-', 'JAMALI', '1-5', 'Kakuti', 'Tehreek-e-Insaf', 'harmonisation', '``', 'first-of-its-kind', 'lightingfootball', 'pre-school', 'all-time', '2008', 'ill-paid', 'pennilessness', 'arifat', 'anaemia', '2017', 'programmes', '20', '20:35', 'WCIC', 'SFHQ-KLN', ')', '600', 'fast-developing', 'Corrodus', '49', '18,000-hectare', '32,000', 'RolheiserWhenever', 'Trust/NTA', '99', '70', '20-something', '2011', 'ICCCAD', 'Dodgeballs', 'Vigbedor', 'stressed-out', 'MehraeenAfghan', '55', 'al-Adha', 'learnt', '83,000', 'have-nots', 'stone-age', 'north-west', 'Osme', '170', 'rough-and-tumble', 'trauma-related', 'ex-wife', 'turn-out', '105.01', 'pre-paid', '2013', 'theatre', 'al-Elwany', 'Pavegen', '90', 'Aylan', '47', 'unfavourable', '39', '30,000', 'family-development', 'post-Independence', 'long-term', 'Duncan-Smith', 'Herald-Republic', 'Pogba-esque', '150', '50', 'Platfontein', 'fibre', 'centres', 'Thirty-seven', 'suria', 'MD/', 'labour', 'patronised', 'self-made', '30', 'Kanabe', 'self-sufficient', 'Kaibartya', 'Ashmanis', \"'s\", 'neighbours', 'Madurasinghe', 'under-privileged', 'fast-track', 'not-very-intelligent', 'Kretsge', '60,000', '75', '!', 'rump-CPP', 'administrator-volunteers', 'employee-company', 'organise', 'off-grid', 'S/he', 'self-destructive', 'immigrants/slaves', '10-year-old', 'B.S.I', 'sensitise']\n"
     ]
    }
   ],
   "source": [
    "# get tokens from dataset\n",
    "token_collection = set()\n",
    "for i in range(len(dpm.train_task2_df)):\n",
    "    # tokenise input\n",
    "    t = set(word_tokenize(dpm.train_task2_df.loc[i, \"text\"]))\n",
    "    # add tokens to vocabulary set\n",
    "    token_collection.update(t)\n",
    "\n",
    "# check which words aren't covered by GoogleNews embeddings\n",
    "# create list for collecting unknown words\n",
    "unk = []\n",
    "for token in token_collection:\n",
    "    if token not in wv_from_bin:\n",
    "        unk.append(token)\n",
    "print(unk)"
   ]
  },
  {
   "cell_type": "markdown",
   "id": "6c34dc4a",
   "metadata": {},
   "source": [
    "We notice a couple of trends: Firstly, tokens that still contain punctuation (- or / or . -- see for example 'poverty-stricken', 'life-changing', 'ill-educated', 'refugee/migrant', 'S/he', 'U.K') are not recognised as words -- this is something that we can circumnavigate with a different kind of preprocessing. What we cannot change is that GoogleNews does not recognise British English spelling (e.g. 'modernisation', 'marginalisation', 'patronise') and also seems to have trouble with some proper names ('DUSIB', 'TheDignityProject', 'Mumassaba') and numbers (e.g. '400,000', '2010'). "
   ]
  },
  {
   "cell_type": "markdown",
   "id": "ad0dca3d",
   "metadata": {},
   "source": [
    "Since the GoogleNews word embeddings file is rather large and it is unlikely that we will encounter all of its >100 billion words, we will build our own embedding vocabulary that focuses on the embeddings we actually need."
   ]
  },
  {
   "cell_type": "code",
   "execution_count": 4,
   "id": "c2ffe9c7",
   "metadata": {},
   "outputs": [],
   "source": [
    "# Create BiLSTM Vocabulary\n",
    "\n",
    "# initialise vocab set\n",
    "vocab = set()\n",
    "# get every vocab item from dataset\n",
    "# tokenize the text paragraphs and collect vocabulary items in set\n",
    "for i in range(len(dpm.train_task2_df)):\n",
    "    # replace . and - and / with whitespace (to increase recognised words)\n",
    "    words = dpm.train_task2_df.loc[i, \"text\"].replace(\"-\", \" \").replace(\"/\", \" \").replace(\".\", \" \")\n",
    "    # tokenise input\n",
    "    t = set(word_tokenize(words))\n",
    "    # add tokens to vocabulary set\n",
    "    vocab.update(t)\n",
    "\n",
    "# create dictionary: key = vocab item, value = GoogleNews vector\n",
    "# initialise lookup dictionary\n",
    "lookup_dict = {}\n",
    "# iterate through vocab and look up vector embeddings from google; create dict entry\n",
    "for word in vocab:\n",
    "    if word in wv_from_bin:\n",
    "        lookup_dict[word] = wv_from_bin.get_vector(word)\n",
    "# update vocabulary to be able to handle padding later on\n",
    "vocabulary = dict()\n",
    "vocabulary[\"\"] = np.zeros(300)\n",
    "vocabulary[\"[UNK]\"] = np.zeros(300)\n",
    "vocabulary = dict(**vocabulary,**lookup_dict)\n",
    "\n",
    "# save lookup dictionary as pickle object for future use\n",
    "pklobj = open(\"data/embeddings_dict.obj\",\"wb\")\n",
    "pickle.dump(vocabulary,pklobj)\n",
    "pklobj.close()"
   ]
  },
  {
   "cell_type": "markdown",
   "id": "c16cf637",
   "metadata": {},
   "source": [
    "Please note: the following code will now work again properly without the GoogleNews-embeddings-file.\n",
    "\n",
    "Next, we turn our vocabulary from a dictionary form into an embedding matrix that we can later use as reference for our BiLSTM."
   ]
  },
  {
   "cell_type": "code",
   "execution_count": 48,
   "id": "a61f4c40",
   "metadata": {},
   "outputs": [],
   "source": [
    "# load vocabulary dict\n",
    "lookup_dict = pickle.load(open('data/embeddings_dict.obj','rb'))\n",
    "\n",
    "# turn lookup_dict into an embedding matrix\n",
    "emb_matrix = np.zeros((len(lookup_dict),300))\n",
    "for key in lookup_dict:\n",
    "    emb_matrix[look_up(key)] = lookup_dict[key]\n",
    "emb_matrix = torch.from_numpy(emb_matrix)"
   ]
  },
  {
   "cell_type": "markdown",
   "id": "5db6ccb4",
   "metadata": {},
   "source": [
    "Save embedding matrix as pickle object for future use:"
   ]
  },
  {
   "cell_type": "code",
   "execution_count": 32,
   "id": "0ab195d4",
   "metadata": {},
   "outputs": [
    {
     "data": {
      "text/plain": [
       "torch.Size([8237, 300])"
      ]
     },
     "execution_count": 32,
     "metadata": {},
     "output_type": "execute_result"
    }
   ],
   "source": [
    "pklobj = open(\"data/embeddings_matrix.obj\",\"wb\")\n",
    "pickle.dump(emb_matrix,pklobj)\n",
    "pklobj.close()"
   ]
  },
  {
   "cell_type": "markdown",
   "id": "17678bd8",
   "metadata": {},
   "source": [
    "For modelling the BiLSTM it is useful for the input sequences to have the same length. Therefore, we will explore which length marks a good maximum length for sequences."
   ]
  },
  {
   "cell_type": "code",
   "execution_count": 5,
   "id": "a4318b03",
   "metadata": {},
   "outputs": [],
   "source": [
    "# import our embedding helper functions\n",
    "import embedding_functions as ef\n",
    "\n",
    "# find out about paragraph lengths\n",
    "lens = []\n",
    "lens_short = []\n",
    "for i in range(len(dpm.train_task2_df)):\n",
    "    lens.append(len(word_tokenize(dpm.train_task2_df.loc[i, \"text\"]))) # paragraph lengths\n",
    "    lens_short.append(len(ef.inp2array(dpm.train_task2_df.loc[i, \"text\"]))) # paragraph lengths after removing \"invalid\" tokens"
   ]
  },
  {
   "cell_type": "code",
   "execution_count": 9,
   "id": "c77ec30f",
   "metadata": {},
   "outputs": [
    {
     "data": {
      "image/png": "[encoded data removed]",
      "text/plain": [
       "<Figure size 432x288 with 1 Axes>"
      ]
     },
     "metadata": {
      "needs_background": "light"
     },
     "output_type": "display_data"
    },
    {
     "data": {
      "image/png": "[encoded data removed]",
      "text/plain": [
       "<Figure size 432x288 with 1 Axes>"
      ]
     },
     "metadata": {
      "needs_background": "light"
     },
     "output_type": "display_data"
    }
   ],
   "source": [
    "# visualise paragraph lengths\n",
    "\n",
    "import matplotlib.pyplot as plt\n",
    "\n",
    "plt.figure(1)\n",
    "plt.hist(lens, bins=200)\n",
    "\n",
    "plt.ylim(0,65)\n",
    "plt.xlim(0,550)\n",
    "plt.title(\"Original Paragraph Lengths\")\n",
    "\n",
    "plt.figure(2)\n",
    "plt.hist(lens_short, bins=200)\n",
    "plt.ylim(0,65)\n",
    "plt.xlim(0,550)\n",
    "plt.title(\"Paragraph Lengths Reduced to Google Vocab\")\n",
    "plt.show()"
   ]
  },
  {
   "cell_type": "code",
   "execution_count": 8,
   "id": "d3bfbd96",
   "metadata": {},
   "outputs": [
    {
     "name": "stdout",
     "output_type": "stream",
     "text": [
      "Max paragraph length (original):  520\n",
      "Min paragraph length (original):  6\n",
      "Mean paragraph length (original):  55.18831822759315\n",
      "Max paragraph length (recognisable tokens only):  396\n",
      "Min paragraph length (recognisable tokens only):  5\n",
      "Mean paragraph length (recognisable tokens only):  41.74219536757301\n"
     ]
    }
   ],
   "source": [
    "print(\"Max paragraph length (original): \",max(lens))\n",
    "print(\"Min paragraph length (original): \",min(lens))\n",
    "print(\"Mean paragraph length (original): \",np.mean(lens))\n",
    "print(\"Max paragraph length (recognisable tokens only): \",max(lens_short))\n",
    "print(\"Min paragraph length (recognisable tokens only): \",min(lens_short))\n",
    "print(\"Mean paragraph length (recognisable tokens only): \",np.mean(lens_short))"
   ]
  },
  {
   "cell_type": "markdown",
   "id": "0ce677c4",
   "metadata": {},
   "source": [
    "There is one outlier paragraph which is more than twice as long as all the other paragraphs: paragraph ID 6833. Since it is not labelled with an underrepresented category (eg. \"The poorer, the merrier\"), we decided to remove it from our input data in order to avoid unnecessarily extensive padding to the other input sequences."
   ]
  },
  {
   "cell_type": "code",
   "execution_count": 62,
   "id": "f1c47585",
   "metadata": {},
   "outputs": [],
   "source": [
    "train_task2_cleaned_df = dpm.train_task2_df.drop(dpm.train_task2_df[dpm.train_task2_df.par_id==\"6833\"].index)\n",
    "                                            .reset_index(drop=True)"
   ]
  },
  {
   "cell_type": "markdown",
   "id": "b9b7e8c8",
   "metadata": {},
   "source": [
    "Save new dataframe as csv for future use:"
   ]
  },
  {
   "cell_type": "code",
   "execution_count": 63,
   "id": "00fde491",
   "metadata": {},
   "outputs": [],
   "source": [
    "train_task2_cleaned_df.to_csv('data/task2_cleaned.csv')"
   ]
  },
  {
   "cell_type": "markdown",
   "id": "37792e0c",
   "metadata": {},
   "source": [
    "Now we check again the maximum paragraph length:"
   ]
  },
  {
   "cell_type": "code",
   "execution_count": 50,
   "id": "138ddeb8",
   "metadata": {},
   "outputs": [
    {
     "name": "stdout",
     "output_type": "stream",
     "text": [
      "Max paragraph length:  191\n",
      "Min paragraph length:  5\n",
      "Mean paragraph length:  41.38508064516129\n"
     ]
    }
   ],
   "source": [
    "# find out about paragraph lengths\n",
    "lens = []\n",
    "for i in range(len(train_task2_cleaned_df)):\n",
    "    lens.append(len(ef.inp2array(train_task2_cleaned_df.loc[i, \"text\"]))) # paragraph lengths after removing \"invalid\" tokens\n",
    "print(\"Max paragraph length: \",max(lens))\n",
    "print(\"Min paragraph length: \",min(lens))\n",
    "print(\"Mean paragraph length: \",np.mean(lens))"
   ]
  },
  {
   "cell_type": "markdown",
   "id": "44b856d5",
   "metadata": {},
   "source": [
    "Since -- when only considering the words that our vocabulary built on the GoogleNews vector embeddings recognises -- the maximum length of paragraphs is a managable 191, we choose this number as our maximum sequence length for our BiLSTM model and will pad each other input sequence accordingly."
   ]
  },
  {
   "cell_type": "markdown",
   "id": "0225bfc5",
   "metadata": {},
   "source": [
    "# Adding Higher Level Label Information\n",
    "We would like to find out whether the higher level labels of the PCL taxonomy given ('The saviour', 'The expert', and 'The poet') are easier to predict than the lower level labels. Therefor, we will infer the higher level labels from the lower level labels:\n",
    "- 1 - 2: Unbalanced Power Relations, Shallow Solution -> The saviour\n",
    "- 3 - 4: Presupposition, Authority Voice -> The expert\n",
    "- 5 - 7: Metaphor, Compassion, The poorer the merrier -> The poet"
   ]
  },
  {
   "cell_type": "code",
   "execution_count": 132,
   "id": "d7478d81",
   "metadata": {},
   "outputs": [
    {
     "data": {
      "text/html": [
       "<div>\n",
       "<style scoped>\n",
       "    .dataframe tbody tr th:only-of-type {\n",
       "        vertical-align: middle;\n",
       "    }\n",
       "\n",
       "    .dataframe tbody tr th {\n",
       "        vertical-align: top;\n",
       "    }\n",
       "\n",
       "    .dataframe thead th {\n",
       "        text-align: right;\n",
       "    }\n",
       "</style>\n",
       "<table border=\"1\" class=\"dataframe\">\n",
       "  <thead>\n",
       "    <tr style=\"text-align: right;\">\n",
       "      <th></th>\n",
       "      <th>par_id</th>\n",
       "      <th>art_id</th>\n",
       "      <th>text</th>\n",
       "      <th>keyword</th>\n",
       "      <th>country</th>\n",
       "      <th>label</th>\n",
       "    </tr>\n",
       "  </thead>\n",
       "  <tbody>\n",
       "    <tr>\n",
       "      <th>0</th>\n",
       "      <td>4046</td>\n",
       "      <td>@@14767805</td>\n",
       "      <td>We also know that they can benefit by receivin...</td>\n",
       "      <td>hopeless</td>\n",
       "      <td>us</td>\n",
       "      <td>[1, 0, 0, 1, 0, 0, 0]</td>\n",
       "    </tr>\n",
       "    <tr>\n",
       "      <th>1</th>\n",
       "      <td>1279</td>\n",
       "      <td>@@7896098</td>\n",
       "      <td>Pope Francis washed and kissed the feet of Mus...</td>\n",
       "      <td>refugee</td>\n",
       "      <td>ng</td>\n",
       "      <td>[0, 1, 0, 0, 0, 0, 0]</td>\n",
       "    </tr>\n",
       "    <tr>\n",
       "      <th>2</th>\n",
       "      <td>8330</td>\n",
       "      <td>@@17252299</td>\n",
       "      <td>Many refugees do n't want to be resettled anyw...</td>\n",
       "      <td>refugee</td>\n",
       "      <td>ng</td>\n",
       "      <td>[0, 0, 1, 0, 0, 0, 0]</td>\n",
       "    </tr>\n",
       "    <tr>\n",
       "      <th>3</th>\n",
       "      <td>4063</td>\n",
       "      <td>@@3002894</td>\n",
       "      <td>\"Budding chefs , like \"\" Fred \"\" , \"\" Winston ...</td>\n",
       "      <td>in-need</td>\n",
       "      <td>ie</td>\n",
       "      <td>[1, 0, 0, 1, 1, 1, 0]</td>\n",
       "    </tr>\n",
       "    <tr>\n",
       "      <th>4</th>\n",
       "      <td>4089</td>\n",
       "      <td>@@25597822</td>\n",
       "      <td>\"In a 90-degree view of his constituency , one...</td>\n",
       "      <td>homeless</td>\n",
       "      <td>pk</td>\n",
       "      <td>[1, 0, 0, 0, 0, 0, 0]</td>\n",
       "    </tr>\n",
       "    <tr>\n",
       "      <th>...</th>\n",
       "      <td>...</td>\n",
       "      <td>...</td>\n",
       "      <td>...</td>\n",
       "      <td>...</td>\n",
       "      <td>...</td>\n",
       "      <td>...</td>\n",
       "    </tr>\n",
       "    <tr>\n",
       "      <th>987</th>\n",
       "      <td>873</td>\n",
       "      <td>@@20374243</td>\n",
       "      <td>Citing the fact that these kids who died at Go...</td>\n",
       "      <td>poor-families</td>\n",
       "      <td>sg</td>\n",
       "      <td>[1, 0, 0, 0, 1, 0, 0]</td>\n",
       "    </tr>\n",
       "    <tr>\n",
       "      <th>988</th>\n",
       "      <td>10070</td>\n",
       "      <td>@@15573661</td>\n",
       "      <td>Fern ? ndez was a well-known philanthropist wh...</td>\n",
       "      <td>disabled</td>\n",
       "      <td>ng</td>\n",
       "      <td>[1, 0, 0, 0, 0, 0, 0]</td>\n",
       "    </tr>\n",
       "    <tr>\n",
       "      <th>989</th>\n",
       "      <td>6484</td>\n",
       "      <td>@@2559173</td>\n",
       "      <td>Touched much by their plight , Commanding Offi...</td>\n",
       "      <td>homeless</td>\n",
       "      <td>lk</td>\n",
       "      <td>[1, 0, 0, 0, 0, 1, 0]</td>\n",
       "    </tr>\n",
       "    <tr>\n",
       "      <th>990</th>\n",
       "      <td>6249</td>\n",
       "      <td>@@1947926</td>\n",
       "      <td>She reiterated her ministry 's commitment to p...</td>\n",
       "      <td>women</td>\n",
       "      <td>gh</td>\n",
       "      <td>[1, 0, 0, 0, 0, 0, 0]</td>\n",
       "    </tr>\n",
       "    <tr>\n",
       "      <th>991</th>\n",
       "      <td>5149</td>\n",
       "      <td>@@1789214</td>\n",
       "      <td>Preaching the sermon , the Dean of the St. Pet...</td>\n",
       "      <td>vulnerable</td>\n",
       "      <td>gh</td>\n",
       "      <td>[0, 0, 0, 1, 0, 0, 0]</td>\n",
       "    </tr>\n",
       "  </tbody>\n",
       "</table>\n",
       "<p>992 rows × 6 columns</p>\n",
       "</div>"
      ],
      "text/plain": [
       "     par_id      art_id                                               text  \\\n",
       "0      4046  @@14767805  We also know that they can benefit by receivin...   \n",
       "1      1279   @@7896098  Pope Francis washed and kissed the feet of Mus...   \n",
       "2      8330  @@17252299  Many refugees do n't want to be resettled anyw...   \n",
       "3      4063   @@3002894  \"Budding chefs , like \"\" Fred \"\" , \"\" Winston ...   \n",
       "4      4089  @@25597822  \"In a 90-degree view of his constituency , one...   \n",
       "..      ...         ...                                                ...   \n",
       "987     873  @@20374243  Citing the fact that these kids who died at Go...   \n",
       "988   10070  @@15573661  Fern ? ndez was a well-known philanthropist wh...   \n",
       "989    6484   @@2559173  Touched much by their plight , Commanding Offi...   \n",
       "990    6249   @@1947926  She reiterated her ministry 's commitment to p...   \n",
       "991    5149   @@1789214  Preaching the sermon , the Dean of the St. Pet...   \n",
       "\n",
       "           keyword country                  label  \n",
       "0         hopeless      us  [1, 0, 0, 1, 0, 0, 0]  \n",
       "1          refugee      ng  [0, 1, 0, 0, 0, 0, 0]  \n",
       "2          refugee      ng  [0, 0, 1, 0, 0, 0, 0]  \n",
       "3          in-need      ie  [1, 0, 0, 1, 1, 1, 0]  \n",
       "4         homeless      pk  [1, 0, 0, 0, 0, 0, 0]  \n",
       "..             ...     ...                    ...  \n",
       "987  poor-families      sg  [1, 0, 0, 0, 1, 0, 0]  \n",
       "988       disabled      ng  [1, 0, 0, 0, 0, 0, 0]  \n",
       "989       homeless      lk  [1, 0, 0, 0, 0, 1, 0]  \n",
       "990          women      gh  [1, 0, 0, 0, 0, 0, 0]  \n",
       "991     vulnerable      gh  [0, 0, 0, 1, 0, 0, 0]  \n",
       "\n",
       "[992 rows x 6 columns]"
      ]
     },
     "execution_count": 132,
     "metadata": {},
     "output_type": "execute_result"
    }
   ],
   "source": [
    "# load cleaned data, convert labels to lists\n",
    "\n",
    "import pandas, ast, numpy as np\n",
    "\n",
    "train_task2_cleaned_df = pandas.read_csv('data/task2_cleaned.csv', index_col = 0)\n",
    "labels = train_task2_cleaned_df.loc[:, 'label'].to_numpy()\n",
    "labels = list([list(ast.literal_eval(x)) for x in labels])\n",
    "train_task2_cleaned_df['label'] = labels\n",
    "train_task2_cleaned_df"
   ]
  },
  {
   "cell_type": "code",
   "execution_count": 133,
   "id": "7da1dfe3",
   "metadata": {},
   "outputs": [
    {
     "data": {
      "text/plain": [
       "[[1, 1, 0], [1, 0, 0], [0, 1, 0], [1, 1, 1], [1, 0, 0]]"
      ]
     },
     "execution_count": 133,
     "metadata": {},
     "output_type": "execute_result"
    }
   ],
   "source": [
    "# infer higher level labels based on the given lower level labels\n",
    "hl_labels = []\n",
    "for row in train_task2_cleaned_df.itertuples():\n",
    "    label = row[-1]\n",
    "    row_hl_labels = [0, 0, 0]\n",
    "    if sum(label[0:2]) >= 1:\n",
    "        row_hl_labels[0] = 1\n",
    "    if sum(label[2:4]) >= 1:\n",
    "        row_hl_labels[1] = 1\n",
    "    if sum(label[4:]) >= 1:\n",
    "        row_hl_labels[2] = 1\n",
    "    if sum(row_hl_labels) == 0:\n",
    "        raise Error('Inferred higher level labels sum up to 0!')\n",
    "    hl_labels.append(row_hl_labels)\n",
    "hl_labels[0:5]"
   ]
  },
  {
   "cell_type": "code",
   "execution_count": 134,
   "id": "615b1854",
   "metadata": {},
   "outputs": [
    {
     "data": {
      "text/html": [
       "<div>\n",
       "<style scoped>\n",
       "    .dataframe tbody tr th:only-of-type {\n",
       "        vertical-align: middle;\n",
       "    }\n",
       "\n",
       "    .dataframe tbody tr th {\n",
       "        vertical-align: top;\n",
       "    }\n",
       "\n",
       "    .dataframe thead th {\n",
       "        text-align: right;\n",
       "    }\n",
       "</style>\n",
       "<table border=\"1\" class=\"dataframe\">\n",
       "  <thead>\n",
       "    <tr style=\"text-align: right;\">\n",
       "      <th></th>\n",
       "      <th>par_id</th>\n",
       "      <th>art_id</th>\n",
       "      <th>text</th>\n",
       "      <th>keyword</th>\n",
       "      <th>country</th>\n",
       "      <th>label</th>\n",
       "      <th>higher level label</th>\n",
       "    </tr>\n",
       "  </thead>\n",
       "  <tbody>\n",
       "    <tr>\n",
       "      <th>0</th>\n",
       "      <td>4046</td>\n",
       "      <td>@@14767805</td>\n",
       "      <td>We also know that they can benefit by receivin...</td>\n",
       "      <td>hopeless</td>\n",
       "      <td>us</td>\n",
       "      <td>[1, 0, 0, 1, 0, 0, 0]</td>\n",
       "      <td>[1, 1, 0]</td>\n",
       "    </tr>\n",
       "    <tr>\n",
       "      <th>1</th>\n",
       "      <td>1279</td>\n",
       "      <td>@@7896098</td>\n",
       "      <td>Pope Francis washed and kissed the feet of Mus...</td>\n",
       "      <td>refugee</td>\n",
       "      <td>ng</td>\n",
       "      <td>[0, 1, 0, 0, 0, 0, 0]</td>\n",
       "      <td>[1, 0, 0]</td>\n",
       "    </tr>\n",
       "    <tr>\n",
       "      <th>2</th>\n",
       "      <td>8330</td>\n",
       "      <td>@@17252299</td>\n",
       "      <td>Many refugees do n't want to be resettled anyw...</td>\n",
       "      <td>refugee</td>\n",
       "      <td>ng</td>\n",
       "      <td>[0, 0, 1, 0, 0, 0, 0]</td>\n",
       "      <td>[0, 1, 0]</td>\n",
       "    </tr>\n",
       "    <tr>\n",
       "      <th>3</th>\n",
       "      <td>4063</td>\n",
       "      <td>@@3002894</td>\n",
       "      <td>\"Budding chefs , like \"\" Fred \"\" , \"\" Winston ...</td>\n",
       "      <td>in-need</td>\n",
       "      <td>ie</td>\n",
       "      <td>[1, 0, 0, 1, 1, 1, 0]</td>\n",
       "      <td>[1, 1, 1]</td>\n",
       "    </tr>\n",
       "    <tr>\n",
       "      <th>4</th>\n",
       "      <td>4089</td>\n",
       "      <td>@@25597822</td>\n",
       "      <td>\"In a 90-degree view of his constituency , one...</td>\n",
       "      <td>homeless</td>\n",
       "      <td>pk</td>\n",
       "      <td>[1, 0, 0, 0, 0, 0, 0]</td>\n",
       "      <td>[1, 0, 0]</td>\n",
       "    </tr>\n",
       "    <tr>\n",
       "      <th>...</th>\n",
       "      <td>...</td>\n",
       "      <td>...</td>\n",
       "      <td>...</td>\n",
       "      <td>...</td>\n",
       "      <td>...</td>\n",
       "      <td>...</td>\n",
       "      <td>...</td>\n",
       "    </tr>\n",
       "    <tr>\n",
       "      <th>987</th>\n",
       "      <td>873</td>\n",
       "      <td>@@20374243</td>\n",
       "      <td>Citing the fact that these kids who died at Go...</td>\n",
       "      <td>poor-families</td>\n",
       "      <td>sg</td>\n",
       "      <td>[1, 0, 0, 0, 1, 0, 0]</td>\n",
       "      <td>[1, 0, 1]</td>\n",
       "    </tr>\n",
       "    <tr>\n",
       "      <th>988</th>\n",
       "      <td>10070</td>\n",
       "      <td>@@15573661</td>\n",
       "      <td>Fern ? ndez was a well-known philanthropist wh...</td>\n",
       "      <td>disabled</td>\n",
       "      <td>ng</td>\n",
       "      <td>[1, 0, 0, 0, 0, 0, 0]</td>\n",
       "      <td>[1, 0, 0]</td>\n",
       "    </tr>\n",
       "    <tr>\n",
       "      <th>989</th>\n",
       "      <td>6484</td>\n",
       "      <td>@@2559173</td>\n",
       "      <td>Touched much by their plight , Commanding Offi...</td>\n",
       "      <td>homeless</td>\n",
       "      <td>lk</td>\n",
       "      <td>[1, 0, 0, 0, 0, 1, 0]</td>\n",
       "      <td>[1, 0, 1]</td>\n",
       "    </tr>\n",
       "    <tr>\n",
       "      <th>990</th>\n",
       "      <td>6249</td>\n",
       "      <td>@@1947926</td>\n",
       "      <td>She reiterated her ministry 's commitment to p...</td>\n",
       "      <td>women</td>\n",
       "      <td>gh</td>\n",
       "      <td>[1, 0, 0, 0, 0, 0, 0]</td>\n",
       "      <td>[1, 0, 0]</td>\n",
       "    </tr>\n",
       "    <tr>\n",
       "      <th>991</th>\n",
       "      <td>5149</td>\n",
       "      <td>@@1789214</td>\n",
       "      <td>Preaching the sermon , the Dean of the St. Pet...</td>\n",
       "      <td>vulnerable</td>\n",
       "      <td>gh</td>\n",
       "      <td>[0, 0, 0, 1, 0, 0, 0]</td>\n",
       "      <td>[0, 1, 0]</td>\n",
       "    </tr>\n",
       "  </tbody>\n",
       "</table>\n",
       "<p>992 rows × 7 columns</p>\n",
       "</div>"
      ],
      "text/plain": [
       "     par_id      art_id                                               text  \\\n",
       "0      4046  @@14767805  We also know that they can benefit by receivin...   \n",
       "1      1279   @@7896098  Pope Francis washed and kissed the feet of Mus...   \n",
       "2      8330  @@17252299  Many refugees do n't want to be resettled anyw...   \n",
       "3      4063   @@3002894  \"Budding chefs , like \"\" Fred \"\" , \"\" Winston ...   \n",
       "4      4089  @@25597822  \"In a 90-degree view of his constituency , one...   \n",
       "..      ...         ...                                                ...   \n",
       "987     873  @@20374243  Citing the fact that these kids who died at Go...   \n",
       "988   10070  @@15573661  Fern ? ndez was a well-known philanthropist wh...   \n",
       "989    6484   @@2559173  Touched much by their plight , Commanding Offi...   \n",
       "990    6249   @@1947926  She reiterated her ministry 's commitment to p...   \n",
       "991    5149   @@1789214  Preaching the sermon , the Dean of the St. Pet...   \n",
       "\n",
       "           keyword country                  label higher level label  \n",
       "0         hopeless      us  [1, 0, 0, 1, 0, 0, 0]          [1, 1, 0]  \n",
       "1          refugee      ng  [0, 1, 0, 0, 0, 0, 0]          [1, 0, 0]  \n",
       "2          refugee      ng  [0, 0, 1, 0, 0, 0, 0]          [0, 1, 0]  \n",
       "3          in-need      ie  [1, 0, 0, 1, 1, 1, 0]          [1, 1, 1]  \n",
       "4         homeless      pk  [1, 0, 0, 0, 0, 0, 0]          [1, 0, 0]  \n",
       "..             ...     ...                    ...                ...  \n",
       "987  poor-families      sg  [1, 0, 0, 0, 1, 0, 0]          [1, 0, 1]  \n",
       "988       disabled      ng  [1, 0, 0, 0, 0, 0, 0]          [1, 0, 0]  \n",
       "989       homeless      lk  [1, 0, 0, 0, 0, 1, 0]          [1, 0, 1]  \n",
       "990          women      gh  [1, 0, 0, 0, 0, 0, 0]          [1, 0, 0]  \n",
       "991     vulnerable      gh  [0, 0, 0, 1, 0, 0, 0]          [0, 1, 0]  \n",
       "\n",
       "[992 rows x 7 columns]"
      ]
     },
     "execution_count": 134,
     "metadata": {},
     "output_type": "execute_result"
    }
   ],
   "source": [
    "# add inferred higher level labels to data\n",
    "train_task2_cleaned_df['higher level label'] = hl_labels\n",
    "train_task2_cleaned_df"
   ]
  },
  {
   "cell_type": "markdown",
   "id": "19d37a31",
   "metadata": {},
   "source": [
    "# Train/Test Splitting\n",
    "Next, we need to split our dataset into our own train and a test set, as only the pure train set from the original dataset has been provided yet."
   ]
  },
  {
   "cell_type": "markdown",
   "id": "db02cfba",
   "metadata": {},
   "source": [
    "We could do a stratified split by distributing the different vulnerable groups by their shares of the whole dataset:"
   ]
  },
  {
   "cell_type": "code",
   "execution_count": 135,
   "id": "b60df0ed",
   "metadata": {},
   "outputs": [],
   "source": [
    "from sklearn.model_selection import train_test_split\n",
    "train, test = train_test_split(train_task2_cleaned_df, test_size=0.2, random_state = 1, \n",
    "                               stratify=train_task2_cleaned_df['keyword'])"
   ]
  },
  {
   "cell_type": "code",
   "execution_count": 136,
   "id": "e14f0b5f",
   "metadata": {},
   "outputs": [
    {
     "data": {
      "text/html": [
       "<div>\n",
       "<style scoped>\n",
       "    .dataframe tbody tr th:only-of-type {\n",
       "        vertical-align: middle;\n",
       "    }\n",
       "\n",
       "    .dataframe tbody tr th {\n",
       "        vertical-align: top;\n",
       "    }\n",
       "\n",
       "    .dataframe thead th {\n",
       "        text-align: right;\n",
       "    }\n",
       "</style>\n",
       "<table border=\"1\" class=\"dataframe\">\n",
       "  <thead>\n",
       "    <tr style=\"text-align: right;\">\n",
       "      <th></th>\n",
       "      <th>par_id</th>\n",
       "      <th>art_id</th>\n",
       "      <th>text</th>\n",
       "      <th>keyword</th>\n",
       "      <th>country</th>\n",
       "      <th>label</th>\n",
       "      <th>higher level label</th>\n",
       "    </tr>\n",
       "  </thead>\n",
       "  <tbody>\n",
       "    <tr>\n",
       "      <th>934</th>\n",
       "      <td>1309</td>\n",
       "      <td>@@3363505</td>\n",
       "      <td>\"\"\" With huge shortages of funding and wide ga...</td>\n",
       "      <td>in-need</td>\n",
       "      <td>ca</td>\n",
       "      <td>[0, 0, 0, 0, 0, 1, 0]</td>\n",
       "      <td>[0, 0, 1]</td>\n",
       "    </tr>\n",
       "    <tr>\n",
       "      <th>297</th>\n",
       "      <td>282</td>\n",
       "      <td>@@4649746</td>\n",
       "      <td>Why is the voting turn-out so poor in rich cou...</td>\n",
       "      <td>homeless</td>\n",
       "      <td>bd</td>\n",
       "      <td>[1, 0, 1, 1, 0, 0, 0]</td>\n",
       "      <td>[1, 1, 0]</td>\n",
       "    </tr>\n",
       "    <tr>\n",
       "      <th>201</th>\n",
       "      <td>10352</td>\n",
       "      <td>@@21102155</td>\n",
       "      <td>The next immediate problem that cropped up was...</td>\n",
       "      <td>poor-families</td>\n",
       "      <td>lk</td>\n",
       "      <td>[1, 0, 0, 0, 0, 1, 0]</td>\n",
       "      <td>[1, 0, 1]</td>\n",
       "    </tr>\n",
       "    <tr>\n",
       "      <th>369</th>\n",
       "      <td>8495</td>\n",
       "      <td>@@4567045</td>\n",
       "      <td>He stressed for extricating the poorest from t...</td>\n",
       "      <td>poor-families</td>\n",
       "      <td>pk</td>\n",
       "      <td>[1, 0, 0, 0, 1, 1, 0]</td>\n",
       "      <td>[1, 0, 1]</td>\n",
       "    </tr>\n",
       "    <tr>\n",
       "      <th>316</th>\n",
       "      <td>5432</td>\n",
       "      <td>@@3826227</td>\n",
       "      <td>' A large-scale , publicly-funded energy effic...</td>\n",
       "      <td>vulnerable</td>\n",
       "      <td>gb</td>\n",
       "      <td>[1, 0, 0, 1, 0, 0, 0]</td>\n",
       "      <td>[1, 1, 0]</td>\n",
       "    </tr>\n",
       "    <tr>\n",
       "      <th>...</th>\n",
       "      <td>...</td>\n",
       "      <td>...</td>\n",
       "      <td>...</td>\n",
       "      <td>...</td>\n",
       "      <td>...</td>\n",
       "      <td>...</td>\n",
       "      <td>...</td>\n",
       "    </tr>\n",
       "    <tr>\n",
       "      <th>912</th>\n",
       "      <td>5430</td>\n",
       "      <td>@@22646577</td>\n",
       "      <td>It is the government 's duty to ensure homeles...</td>\n",
       "      <td>homeless</td>\n",
       "      <td>hk</td>\n",
       "      <td>[1, 0, 0, 0, 0, 0, 0]</td>\n",
       "      <td>[1, 0, 0]</td>\n",
       "    </tr>\n",
       "    <tr>\n",
       "      <th>770</th>\n",
       "      <td>2996</td>\n",
       "      <td>@@23945440</td>\n",
       "      <td>Local leaders led by area Member of County Ass...</td>\n",
       "      <td>poor-families</td>\n",
       "      <td>ke</td>\n",
       "      <td>[1, 1, 0, 0, 0, 0, 0]</td>\n",
       "      <td>[1, 0, 0]</td>\n",
       "    </tr>\n",
       "    <tr>\n",
       "      <th>523</th>\n",
       "      <td>7104</td>\n",
       "      <td>@@18693604</td>\n",
       "      <td>When you see others in need , support them .</td>\n",
       "      <td>in-need</td>\n",
       "      <td>nz</td>\n",
       "      <td>[1, 0, 0, 0, 0, 0, 0]</td>\n",
       "      <td>[1, 0, 0]</td>\n",
       "    </tr>\n",
       "    <tr>\n",
       "      <th>528</th>\n",
       "      <td>1619</td>\n",
       "      <td>@@18984294</td>\n",
       "      <td>\"\"\" By donating blood , many lives are saved a...</td>\n",
       "      <td>hopeless</td>\n",
       "      <td>ng</td>\n",
       "      <td>[1, 1, 1, 0, 0, 1, 0]</td>\n",
       "      <td>[1, 1, 1]</td>\n",
       "    </tr>\n",
       "    <tr>\n",
       "      <th>346</th>\n",
       "      <td>4693</td>\n",
       "      <td>@@1799053</td>\n",
       "      <td>The games are also in line with Emperor Gaza I...</td>\n",
       "      <td>disabled</td>\n",
       "      <td>gh</td>\n",
       "      <td>[1, 1, 0, 1, 0, 0, 0]</td>\n",
       "      <td>[1, 1, 0]</td>\n",
       "    </tr>\n",
       "  </tbody>\n",
       "</table>\n",
       "<p>793 rows × 7 columns</p>\n",
       "</div>"
      ],
      "text/plain": [
       "     par_id      art_id                                               text  \\\n",
       "934    1309   @@3363505  \"\"\" With huge shortages of funding and wide ga...   \n",
       "297     282   @@4649746  Why is the voting turn-out so poor in rich cou...   \n",
       "201   10352  @@21102155  The next immediate problem that cropped up was...   \n",
       "369    8495   @@4567045  He stressed for extricating the poorest from t...   \n",
       "316    5432   @@3826227  ' A large-scale , publicly-funded energy effic...   \n",
       "..      ...         ...                                                ...   \n",
       "912    5430  @@22646577  It is the government 's duty to ensure homeles...   \n",
       "770    2996  @@23945440  Local leaders led by area Member of County Ass...   \n",
       "523    7104  @@18693604       When you see others in need , support them .   \n",
       "528    1619  @@18984294  \"\"\" By donating blood , many lives are saved a...   \n",
       "346    4693   @@1799053  The games are also in line with Emperor Gaza I...   \n",
       "\n",
       "           keyword country                  label higher level label  \n",
       "934        in-need      ca  [0, 0, 0, 0, 0, 1, 0]          [0, 0, 1]  \n",
       "297       homeless      bd  [1, 0, 1, 1, 0, 0, 0]          [1, 1, 0]  \n",
       "201  poor-families      lk  [1, 0, 0, 0, 0, 1, 0]          [1, 0, 1]  \n",
       "369  poor-families      pk  [1, 0, 0, 0, 1, 1, 0]          [1, 0, 1]  \n",
       "316     vulnerable      gb  [1, 0, 0, 1, 0, 0, 0]          [1, 1, 0]  \n",
       "..             ...     ...                    ...                ...  \n",
       "912       homeless      hk  [1, 0, 0, 0, 0, 0, 0]          [1, 0, 0]  \n",
       "770  poor-families      ke  [1, 1, 0, 0, 0, 0, 0]          [1, 0, 0]  \n",
       "523        in-need      nz  [1, 0, 0, 0, 0, 0, 0]          [1, 0, 0]  \n",
       "528       hopeless      ng  [1, 1, 1, 0, 0, 1, 0]          [1, 1, 1]  \n",
       "346       disabled      gh  [1, 1, 0, 1, 0, 0, 0]          [1, 1, 0]  \n",
       "\n",
       "[793 rows x 7 columns]"
      ]
     },
     "execution_count": 136,
     "metadata": {},
     "output_type": "execute_result"
    }
   ],
   "source": [
    "train"
   ]
  },
  {
   "cell_type": "code",
   "execution_count": 137,
   "id": "352b1ab6",
   "metadata": {},
   "outputs": [
    {
     "data": {
      "text/plain": [
       "keyword\n",
       "disabled         0.246154\n",
       "homeless         0.253521\n",
       "hopeless         0.252525\n",
       "immigrant        0.250000\n",
       "in-need          0.248227\n",
       "migrant          0.250000\n",
       "poor-families    0.250000\n",
       "refugee          0.246377\n",
       "vulnerable       0.250000\n",
       "women            0.268293\n",
       "dtype: float64"
      ]
     },
     "execution_count": 137,
     "metadata": {},
     "output_type": "execute_result"
    }
   ],
   "source": [
    "train_size = train.groupby('keyword').size()\n",
    "test_size = test.groupby('keyword').size()\n",
    "test_size/train_size"
   ]
  },
  {
   "cell_type": "markdown",
   "id": "e24f8645",
   "metadata": {},
   "source": [
    "We can see that this results in a very nice, equally distributed ratio of 1:4 for all 10 keywords. But, as we only have very few instances of some PCL categories, we decided to split the dataset according to a stratified sampling of the PCL categories. Therefore, we need a different approach that can handle multilabel stratification:"
   ]
  },
  {
   "cell_type": "code",
   "execution_count": 138,
   "id": "9d8fee08",
   "metadata": {},
   "outputs": [
    {
     "data": {
      "text/plain": [
       "0      [1, 0, 0, 1, 0, 0, 0]\n",
       "1      [0, 1, 0, 0, 0, 0, 0]\n",
       "2      [0, 0, 1, 0, 0, 0, 0]\n",
       "3      [1, 0, 0, 1, 1, 1, 0]\n",
       "4      [1, 0, 0, 0, 0, 0, 0]\n",
       "               ...          \n",
       "987    [1, 0, 0, 0, 1, 0, 0]\n",
       "988    [1, 0, 0, 0, 0, 0, 0]\n",
       "989    [1, 0, 0, 0, 0, 1, 0]\n",
       "990    [1, 0, 0, 0, 0, 0, 0]\n",
       "991    [0, 0, 0, 1, 0, 0, 0]\n",
       "Name: label, Length: 992, dtype: object"
      ]
     },
     "execution_count": 138,
     "metadata": {},
     "output_type": "execute_result"
    }
   ],
   "source": [
    "data = train_task2_cleaned_df.loc[:, 'label']\n",
    "data"
   ]
  },
  {
   "cell_type": "code",
   "execution_count": 139,
   "id": "947ce590",
   "metadata": {},
   "outputs": [],
   "source": [
    "# converting labels to numpy arrays\n",
    "Y = np.array([list(x) for x in data])"
   ]
  },
  {
   "cell_type": "code",
   "execution_count": 140,
   "id": "1a059896",
   "metadata": {},
   "outputs": [
    {
     "data": {
      "text/plain": [
       "array([[1, 0, 0, ..., 0, 0, 0],\n",
       "       [0, 1, 0, ..., 0, 0, 0],\n",
       "       [0, 0, 1, ..., 0, 0, 0],\n",
       "       ...,\n",
       "       [1, 0, 0, ..., 0, 1, 0],\n",
       "       [1, 0, 0, ..., 0, 0, 0],\n",
       "       [0, 0, 0, ..., 0, 0, 0]])"
      ]
     },
     "execution_count": 140,
     "metadata": {},
     "output_type": "execute_result"
    }
   ],
   "source": [
    "Y"
   ]
  },
  {
   "cell_type": "code",
   "execution_count": 141,
   "id": "7c0d8b76",
   "metadata": {},
   "outputs": [
    {
     "data": {
      "text/plain": [
       "2069"
      ]
     },
     "execution_count": 141,
     "metadata": {},
     "output_type": "execute_result"
    }
   ],
   "source": [
    "# we only get 2069 'instances' of PCL as opposed to the 2760 instances labelled in the dataset\n",
    "# because multiple instances of the same label in one paragraph are only counted once\n",
    "Y.sum()"
   ]
  },
  {
   "cell_type": "code",
   "execution_count": 142,
   "id": "d0fa43fb",
   "metadata": {},
   "outputs": [],
   "source": [
    "# Multilabel stratification splitting\n",
    "from skmultilearn.model_selection import IterativeStratification\n",
    "X = train_task2_cleaned_df\n",
    "stratifier = IterativeStratification(n_splits=2, order=1, sample_distribution_per_fold=[0.2, 0.8])\n",
    "train_indexes, test_indexes = next(stratifier.split(X, Y))\n",
    "X_train, Y_train = X.loc[train_indexes], Y[train_indexes]\n",
    "X_test, Y_test = X.loc[test_indexes], Y[test_indexes]"
   ]
  },
  {
   "cell_type": "code",
   "execution_count": 143,
   "id": "dcd42bf6",
   "metadata": {
    "scrolled": true
   },
   "outputs": [
    {
     "data": {
      "text/plain": [
       "(     par_id      art_id                                               text  \\\n",
       " 1      1279   @@7896098  Pope Francis washed and kissed the feet of Mus...   \n",
       " 3      4063   @@3002894  \"Budding chefs , like \"\" Fred \"\" , \"\" Winston ...   \n",
       " 6      4177    @@930041  The Word of God is truth that 's living and ab...   \n",
       " 7      3963  @@18867357  Chantelle Owens , Mrs Planet 2016 , hosted the...   \n",
       " 8      2001  @@14012804  t is remiss not to mention here that not all s...   \n",
       " ..      ...         ...                                                ...   \n",
       " 987     873  @@20374243  Citing the fact that these kids who died at Go...   \n",
       " 988   10070  @@15573661  Fern ? ndez was a well-known philanthropist wh...   \n",
       " 989    6484   @@2559173  Touched much by their plight , Commanding Offi...   \n",
       " 990    6249   @@1947926  She reiterated her ministry 's commitment to p...   \n",
       " 991    5149   @@1789214  Preaching the sermon , the Dean of the St. Pet...   \n",
       " \n",
       "            keyword country                  label higher level label  \n",
       " 1          refugee      ng  [0, 1, 0, 0, 0, 0, 0]          [1, 0, 0]  \n",
       " 3          in-need      ie  [1, 0, 0, 1, 1, 1, 0]          [1, 1, 1]  \n",
       " 6         hopeless      us  [1, 0, 0, 0, 0, 1, 0]          [1, 0, 1]  \n",
       " 7          in-need      za  [1, 1, 0, 0, 0, 1, 0]          [1, 0, 1]  \n",
       " 8    poor-families      tz  [0, 0, 1, 0, 0, 0, 0]          [0, 1, 0]  \n",
       " ..             ...     ...                    ...                ...  \n",
       " 987  poor-families      sg  [1, 0, 0, 0, 1, 0, 0]          [1, 0, 1]  \n",
       " 988       disabled      ng  [1, 0, 0, 0, 0, 0, 0]          [1, 0, 0]  \n",
       " 989       homeless      lk  [1, 0, 0, 0, 0, 1, 0]          [1, 0, 1]  \n",
       " 990          women      gh  [1, 0, 0, 0, 0, 0, 0]          [1, 0, 0]  \n",
       " 991     vulnerable      gh  [0, 0, 0, 1, 0, 0, 0]          [0, 1, 0]  \n",
       " \n",
       " [815 rows x 7 columns],\n",
       " array([[0, 1, 0, ..., 0, 0, 0],\n",
       "        [1, 0, 0, ..., 1, 1, 0],\n",
       "        [1, 0, 0, ..., 0, 1, 0],\n",
       "        ...,\n",
       "        [1, 0, 0, ..., 0, 1, 0],\n",
       "        [1, 0, 0, ..., 0, 0, 0],\n",
       "        [0, 0, 0, ..., 0, 0, 0]]),\n",
       "      par_id      art_id                                               text  \\\n",
       " 0      4046  @@14767805  We also know that they can benefit by receivin...   \n",
       " 2      8330  @@17252299  Many refugees do n't want to be resettled anyw...   \n",
       " 4      4089  @@25597822  \"In a 90-degree view of his constituency , one...   \n",
       " 5       432  @@15802146  He depicts demonstrations by refugees at the b...   \n",
       " 9       369  @@15636898  \"\"\" People do n't understand the hurt , people...   \n",
       " ..      ...         ...                                                ...   \n",
       " 646     248  @@17606348  \"\"\" Clear evidence of outstanding miraculous o...   \n",
       " 706    9624   @@3046230  The PCD act has the provision that a substitut...   \n",
       " 860    6910  @@19027470  World Refugee Day is marked on June 20 every y...   \n",
       " 919    9928  @@19128313  In the city of Hyderabad , ' Walls of Kindness...   \n",
       " 926   10445   @@3923193  More than 150 volunteers spent the night in ' ...   \n",
       " \n",
       "       keyword country                  label higher level label  \n",
       " 0    hopeless      us  [1, 0, 0, 1, 0, 0, 0]          [1, 1, 0]  \n",
       " 2     refugee      ng  [0, 0, 1, 0, 0, 0, 0]          [0, 1, 0]  \n",
       " 4    homeless      pk  [1, 0, 0, 0, 0, 0, 0]          [1, 0, 0]  \n",
       " 5     refugee      nz  [0, 0, 0, 0, 0, 1, 0]          [0, 0, 1]  \n",
       " 9       women      ie  [1, 0, 1, 1, 0, 1, 0]          [1, 1, 1]  \n",
       " ..        ...     ...                    ...                ...  \n",
       " 646  hopeless      ke  [0, 0, 0, 0, 1, 1, 0]          [0, 0, 1]  \n",
       " 706  disabled      ca  [0, 0, 0, 0, 1, 1, 0]          [0, 0, 1]  \n",
       " 860   refugee      gh  [0, 1, 0, 0, 0, 0, 1]          [1, 0, 1]  \n",
       " 919   in-need      in  [0, 1, 0, 0, 0, 1, 0]          [1, 0, 1]  \n",
       " 926   refugee      gb  [0, 1, 0, 0, 0, 0, 0]          [1, 0, 0]  \n",
       " \n",
       " [177 rows x 7 columns],\n",
       " array([[1, 0, 0, ..., 0, 0, 0],\n",
       "        [0, 0, 1, ..., 0, 0, 0],\n",
       "        [1, 0, 0, ..., 0, 0, 0],\n",
       "        ...,\n",
       "        [0, 1, 0, ..., 0, 0, 1],\n",
       "        [0, 1, 0, ..., 0, 1, 0],\n",
       "        [0, 1, 0, ..., 0, 0, 0]]))"
      ]
     },
     "execution_count": 143,
     "metadata": {},
     "output_type": "execute_result"
    }
   ],
   "source": [
    "X_train, Y_train, X_test, Y_test"
   ]
  },
  {
   "cell_type": "code",
   "execution_count": 144,
   "id": "c717aef0",
   "metadata": {},
   "outputs": [
    {
     "data": {
      "text/plain": [
       "(array([143,  39,  45,  46,  39,  94,  10]),\n",
       " array([572, 157, 179, 183, 158, 374,  30]))"
      ]
     },
     "execution_count": 144,
     "metadata": {},
     "output_type": "execute_result"
    }
   ],
   "source": [
    "Y_test.sum(axis=0),Y_train.sum(axis=0)"
   ]
  },
  {
   "cell_type": "code",
   "execution_count": 145,
   "id": "ba59eb5e",
   "metadata": {},
   "outputs": [
    {
     "data": {
      "text/plain": [
       "array([0.25      , 0.24840764, 0.25139665, 0.25136612, 0.24683544,\n",
       "       0.2513369 , 0.33333333])"
      ]
     },
     "execution_count": 145,
     "metadata": {},
     "output_type": "execute_result"
    }
   ],
   "source": [
    "Y_test.sum(axis=0)/Y_train.sum(axis=0)"
   ]
  },
  {
   "cell_type": "markdown",
   "id": "99b54db2",
   "metadata": {},
   "source": [
    "This shows us the distribution of the categories across train and test data. We can see that for all categories we get a ratio of roughly 1:4, with the last category having 1:3 due to fewer samples in this category."
   ]
  },
  {
   "cell_type": "code",
   "execution_count": 146,
   "id": "46ba9432",
   "metadata": {},
   "outputs": [
    {
     "name": "stdout",
     "output_type": "stream",
     "text": [
      "Train size: 815\n",
      "Test size: 177\n"
     ]
    }
   ],
   "source": [
    "print(\"Train size:\", len(X_train))\n",
    "print(\"Test size:\", len(X_test))"
   ]
  },
  {
   "cell_type": "markdown",
   "id": "ca13b57c",
   "metadata": {},
   "source": [
    "Save training and testing data as csv for future use:"
   ]
  },
  {
   "cell_type": "code",
   "execution_count": 147,
   "id": "defa85c7",
   "metadata": {},
   "outputs": [],
   "source": [
    "X_train.to_csv('data/dpm_train.csv')"
   ]
  },
  {
   "cell_type": "code",
   "execution_count": 148,
   "id": "c1795d52",
   "metadata": {},
   "outputs": [],
   "source": [
    "X_test.to_csv('data/dpm_test.csv')"
   ]
  }
 ],
 "metadata": {
  "kernelspec": {
   "display_name": "Python 3 (ipykernel)",
   "language": "python",
   "name": "python3"
  },
  "language_info": {
   "codemirror_mode": {
    "name": "ipython",
    "version": 3
   },
   "file_extension": ".py",
   "mimetype": "text/x-python",
   "name": "python",
   "nbconvert_exporter": "python",
   "pygments_lexer": "ipython3",
   "version": "3.9.4"
  }
 },
 "nbformat": 4,
 "nbformat_minor": 5
}
